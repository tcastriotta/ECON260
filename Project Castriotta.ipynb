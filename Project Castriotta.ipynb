{
 "cells": [
  {
   "cell_type": "code",
   "execution_count": 1,
   "id": "cefad7fa",
   "metadata": {},
   "outputs": [],
   "source": [
    "from sympy import *"
   ]
  },
  {
   "cell_type": "code",
   "execution_count": 2,
   "id": "c82244f3",
   "metadata": {},
   "outputs": [],
   "source": [
    "import matplotlib"
   ]
  },
  {
   "cell_type": "code",
   "execution_count": 3,
   "id": "f6ebd39c",
   "metadata": {},
   "outputs": [],
   "source": [
    "init_printing()"
   ]
  },
  {
   "cell_type": "code",
   "execution_count": 4,
   "id": "0008e5b6",
   "metadata": {},
   "outputs": [],
   "source": [
    "q1, q2, q3, p1, p2, p3, y, G, A, SV, U = symbols('q1 q2 q3 p1 p2 p3 y G A SV U')"
   ]
  },
  {
   "cell_type": "code",
   "execution_count": 5,
   "id": "bd632464",
   "metadata": {},
   "outputs": [],
   "source": [
    "alpha, beta = symbols('alpha beta')"
   ]
  },
  {
   "cell_type": "markdown",
   "id": "f3fd49b6",
   "metadata": {},
   "source": [
    "Introduction:\n",
    "\n",
    "NHL teams look for anyway to get ahead of their competition, this means adding players to their team that will earn their team as many as wins as possible. This model will focus on arguably the three biggest statistics that every General Manager will look at when adding players: goals and assists(for skaters) and save percentage(for goalies). The question I will examine in this project is: How does emphasizing one phase of the game contribute to the maximization of wins in a season?\n",
    "\n",
    "The model that will be used in this analysis will be a utility maximization program, with total number of wins being what the general managers will try to maximize. The budget constraint will simply be the salary cap.\n",
    "\n",
    "Varable IDs:\n",
    "W = Wins\n",
    "G = Goals\n",
    "A = Assists\n",
    "SP = Save Percentage\n",
    "Y = Salary Cap\n",
    "\n",
    "The program will look like this:\n",
    "\n",
    "\\begin{align}\n",
    "    \\max_{G,A,SP}W(G,A,SP) &= G^{\\alpha}A^{\\beta}SP^{1 - \\alpha - \\beta} \\\\\n",
    "    s.t. p_1G + p_2A + p_3SV &= Y \\\\\n",
    "\\end{align}\n",
    "\n",
    "Therefore the Lagrangian Equation would look like this:\n",
    "\\begin{align}\n",
    "    \\ L = G^\\alpha + A^\\beta + SP^{1 - \\alpha - \\beta} + \\lambda(Y - p_1G - p_2A - p_3SV) \\\n",
    "\\end{align}\n",
    "\n",
    "The Assumption is that general managers would inclined to sign goal scorers(goals) as playmakers(assists) at the same rate, as the combination of both would be seen to create the most goal scoring opportunity, leading to the most goals scored possible and then highest possible wins. However, goalies are important as well, so general managers would also spend money to sign a good goalie to ensure the most victories possible.\n",
    "\n",
    "Therefore, alpha and beta are equal to .35, leaving .3 for the goalies. In the NHL, an active roster consists of 23 players, while a gameday roster consists of 20 players - 18 skaters and 2 goalies. Those 18 skaters are divided into typically 12 forwards and 6 defenseman, which form four forward lines and three defensive pairings. For simplicity purposes all goalscoring skills will be an average(tallying up total goals in a season) as well as playmaking skills(tallying up total goals in a season) and goalie skills(tallying up total save percentage in a season).\n",
    "\n",
    "With alpha and beta levels designated, the new maximization program will look like this:\n",
    "\\begin{align}\n",
    "    \\max_{G,A,SP}W(G,A,SP) &= G^{.35}A^{.35}SP^{.3} \\\\\n",
    "    s.t. p_1G + p_2A + p_3SV &= Y \\\\\n",
    "\\end{align}\n",
    "\n",
    "Such that the Lagrangian would look like this:\n",
    "\n",
    "\\begin{align}\n",
    "    \\ L = G^.35 + A^.35 + SP^.3 + \\lambda(Y - p_1G - p_2A - p_3SV) \\\n",
    "\\end{align}"
   ]
  },
  {
   "cell_type": "code",
   "execution_count": 6,
   "id": "a6909a7a",
   "metadata": {},
   "outputs": [],
   "source": [
    " lam = symbols('lambda', real = True, Positive = True)"
   ]
  },
  {
   "cell_type": "code",
   "execution_count": 28,
   "id": "4fb6e2a6",
   "metadata": {},
   "outputs": [
    {
     "data": {
      "image/png": "[encoded data removed]",
      "text/latex": [
       "$\\displaystyle A^{0.35} G^{0.35} SV^{0.3}$"
      ],
      "text/plain": [
       " 0.35  0.35   0.3\n",
       "A    ⋅G    ⋅SV   "
      ]
     },
     "execution_count": 28,
     "metadata": {},
     "output_type": "execute_result"
    }
   ],
   "source": [
    "u = G**(.35) * A**(.35) * SV**(.3)\n",
    "\n",
    "u"
   ]
  },
  {
   "cell_type": "code",
   "execution_count": 27,
   "id": "1eac5367",
   "metadata": {},
   "outputs": [
    {
     "data": {
      "image/png": "[encoded data removed]",
      "text/latex": [
       "$\\displaystyle A^{0.35} G^{0.35} SV^{0.3} + \\lambda \\left(- A p_{2} - G p_{1} - SV p_{3} + y\\right)$"
      ],
      "text/plain": [
       " 0.35  0.35   0.3                               \n",
       "A    ⋅G    ⋅SV    + λ⋅(-A⋅p₂ - G⋅p₁ - SV⋅p₃ + y)"
      ]
     },
     "execution_count": 27,
     "metadata": {},
     "output_type": "execute_result"
    }
   ],
   "source": [
    "lam = symbols('lambda')\n",
    "\n",
    "lagr = u + lam *(y - p1*G - p2*A - p3*SV)\n",
    "\n",
    "lagr"
   ]
  },
  {
   "cell_type": "markdown",
   "id": "6340de95",
   "metadata": {},
   "source": [
    "First Order Conditions:\n",
    "\n"
   ]
  },
  {
   "cell_type": "markdown",
   "id": "938bf2e0",
   "metadata": {},
   "source": [
    "(1)\n",
    "\n",
    "\\begin{align}\n",
    "    \\frac{\\partial L}{\\partial G} = 35G^{-.65} A^{.35} SV^{.3} - \\lambda p_1 = 0 \\\n",
    "\\end{align}\n",
    "\n",
    "(2)\n",
    "\n",
    "\\begin{align}\n",
    "    \\frac{\\partial L}{\\partial A} = .35G^{.35} A^{-.65} SV^{.3} - \\lambda p_2 = 0 \\\n",
    "\\end{align}\n",
    "\n",
    "(3)\n",
    "\n",
    "\\begin{align}\n",
    "    \\frac{\\partial L}{\\partial SV} = .3G^{.35} A^{.35} SV^{-.7} - \\lambda p_3 = 0 \\\n",
    "\\end{align}\n",
    "\n",
    "(4)\n",
    "\n",
    "\\begin{align}\n",
    "    \\frac{\\partial L}{\\partial \\lambda} = Y - p_1G - p_2A - p_3SV = 0 \\\n",
    "\\end{align}\n",
    "\n"
   ]
  },
  {
   "cell_type": "markdown",
   "id": "82b4899c",
   "metadata": {},
   "source": [
    "Rewriting F.O.C.'s\n",
    "\n",
    "(1) \n",
    "\n",
    "\\begin{align}\n",
    "    \\ .35G^{-.65} A^{.35} SV^{.3} = \\lambda p_1 \\\n",
    "\\end{align}\n",
    "\n",
    "(2)\n",
    "\n",
    "\\begin{align}\n",
    "    \\ .35G^{.35} A^{-.65} SV^{.3} = \\lambda p_2  \\\n",
    "\\end{align}\n",
    "\n",
    "(3)\n",
    "\n",
    "\\begin{align}\n",
    "    \\ .3G^{.35} A^{.35} SV^{-.7} = \\lambda p_3 \\\n",
    "\\end{align}\n",
    "\n",
    "(4)\n",
    "\n",
    "\\begin{align}\n",
    "    \\ Y - p_1G - p_2A - p_3SV = 0 \\\n",
    "\\end{align}\n"
   ]
  },
  {
   "cell_type": "markdown",
   "id": "32a57fd5",
   "metadata": {},
   "source": [
    "In order to find the correct consumption bundles, $q_1$ and $q_2$ will be writtenin terms of $q_3$ so that we can substitute into budget constraint in the future. To start:\n",
    "\n",
    "Divide (1) and (3)\n",
    "\n",
    "(5)\n",
    "\n",
    "\\begin{align}    \n",
    "    \\frac{.35G^{-.65} A^{.35} SV^{.3}}{.3G^{.35} A^{.35} SV^{-.7}} = \\frac{p_1}{p_3} \\\\\n",
    "    \\ = \\frac{.35 G^{-1}}{.3 SV^{-1}} = \\frac{p_1}{p_3} \\\\\n",
    "    \\ = \\frac{.35 SV}{.3 G} = \\frac{p_1}{p_3} \\\\\n",
    "    \\ = G = \\frac{p_3}{p_1} \\frac{.35 SV}{.3} \\\\ \n",
    "\\end{align}\n",
    "\n",
    "And Divide (2) and (3)\n",
    "\n",
    "(6)\n",
    "\n",
    "\\begin{align}\n",
    "    \\frac{.35G^{.35} A^{-.65} SV^{.3}}{.3G^{.35} A^{.35} SV^{-.7}} = \\frac{p_2}{p_3} \\\\\n",
    "    \\ = \\frac{.35 A^{-1}}{.3 SV^{-1}} = \\frac{p_2}{p_3} \\\\\n",
    "    \\ = \\frac{.35 SV}{.3 A} = \\frac{p_2}{p_3} \\\\\n",
    "    \\ = A =  \\frac{p_3}{p_2} \\frac{.35 SV}{.3} \\\\\n",
    "\\end{align}\n"
   ]
  },
  {
   "cell_type": "markdown",
   "id": "d0934dc4",
   "metadata": {},
   "source": [
    "To find $SV^*$, plug (5) and (6) back into (4):\n",
    "\n",
    "\\begin{align}\n",
    "\\ Y - p_1 \\frac{p_3}{p_1} \\frac{.35 SV}{.3} - p_2 \\frac{p_3}{p_2} \\frac{.35 SV}{.3} - p_3SV = 0 \\\\\n",
    "\\ = Y - p_3 \\frac{.35 SV}{.3} - p_3 \\frac{.35 SV}{.3} - p_3 SV \\\\\n",
    "\\ = .3Y - p_3 SV \\\\\n",
    "\\ SV^* = \\frac{.3Y}{p_3} \\\\\n",
    "\\end{align}\n",
    "\n",
    "To find $G^*$ and $A^*$, plug $SV^*$ into (5) and (6), respectively:\n",
    "\n",
    "\\begin{align}\n",
    "\\ G^* = \\frac{p_3}{p_1} \\frac{.35 \\frac{Y}{p_3}}{.3}\n",
    "\\ = G^* = \\frac{.35y}{p_1}\n",
    "\\end{align}\n",
    "\n",
    "\\begin{align}\n",
    "\\ A^* = \\frac{p_3}{p_2} \\frac{.35 \\frac{Y}{p_3}}{.3}\n",
    "\\ = A^* \\frac{.35y}{p_2}\n",
    "\\end{align}"
   ]
  },
  {
   "cell_type": "code",
   "execution_count": 33,
   "id": "960be460",
   "metadata": {},
   "outputs": [
    {
     "data": {
      "image/png": "[encoded data removed]",
      "text/latex": [
       "$\\displaystyle \\left[ \\left( \\frac{0.35 y}{p_{1}}, \\  \\frac{0.35 y}{p_{2}}, \\  \\frac{0.3 y}{p_{3}}, \\  \\frac{0.334182733793826 \\left(\\frac{y}{p_{1}}\\right)^{\\frac{7}{20}} \\left(\\frac{y}{p_{2}}\\right)^{\\frac{7}{20}}}{p_{3} \\left(\\frac{y}{p_{3}}\\right)^{\\frac{7}{10}}}\\right), \\  \\left( \\frac{0.35 y}{p_{1}}, \\  \\frac{0.35 y}{p_{2}}, \\  \\frac{0.3 y}{p_{3}}, \\  \\frac{0.334182733793826 \\left(\\frac{y}{p_{1}}\\right)^{\\frac{7}{20}} \\left(\\frac{y}{p_{2}}\\right)^{\\frac{7}{20}}}{p_{3} \\left(\\frac{y}{p_{3}}\\right)^{\\frac{7}{10}}}\\right), \\  \\left( \\frac{0.35 y}{p_{1}}, \\  \\frac{0.35 y}{p_{2}}, \\  \\frac{0.3 y}{p_{3}}, \\  \\frac{0.334182733793826 \\left(\\frac{y}{p_{1}}\\right)^{\\frac{7}{20}} \\left(\\frac{y}{p_{2}}\\right)^{\\frac{7}{20}}}{p_{3} \\left(\\frac{y}{p_{3}}\\right)^{\\frac{7}{10}}}\\right), \\  \\left( \\frac{0.35 y}{p_{1}}, \\  \\frac{0.35 y}{p_{2}}, \\  \\frac{0.3 y}{p_{3}}, \\  \\frac{0.334182733793826 \\left(\\frac{y}{p_{1}}\\right)^{\\frac{7}{20}} \\left(\\frac{y}{p_{2}}\\right)^{\\frac{7}{20}}}{p_{3} \\left(\\frac{y}{p_{3}}\\right)^{\\frac{7}{10}}}\\right), \\  \\left( \\frac{0.35 y}{p_{1}}, \\  \\frac{0.35 y}{p_{2}}, \\  \\frac{0.3 y}{p_{3}}, \\  \\frac{0.334182733793826 \\left(\\frac{y}{p_{1}}\\right)^{\\frac{7}{20}} \\left(\\frac{y}{p_{2}}\\right)^{\\frac{7}{20}}}{p_{3} \\left(\\frac{y}{p_{3}}\\right)^{\\frac{7}{10}}}\\right), \\  \\left( \\frac{0.35 y}{p_{1}}, \\  \\frac{0.35 y}{p_{2}}, \\  \\frac{0.3 y}{p_{3}}, \\  \\frac{0.334182733793826 \\left(\\frac{y}{p_{1}}\\right)^{\\frac{7}{20}} \\left(\\frac{y}{p_{2}}\\right)^{\\frac{7}{20}}}{p_{3} \\left(\\frac{y}{p_{3}}\\right)^{\\frac{7}{10}}}\\right), \\  \\left( \\frac{0.35 y}{p_{1}}, \\  \\frac{0.35 y}{p_{2}}, \\  \\frac{0.3 y}{p_{3}}, \\  \\frac{0.334182733793826 \\left(\\frac{y}{p_{1}}\\right)^{\\frac{7}{20}} \\left(\\frac{y}{p_{2}}\\right)^{\\frac{7}{20}}}{p_{3} \\left(\\frac{y}{p_{3}}\\right)^{\\frac{7}{10}}}\\right), \\  \\left( \\frac{0.35 y}{p_{1}}, \\  \\frac{0.35 y}{p_{2}}, \\  \\frac{0.3 y}{p_{3}}, \\  \\frac{0.334182733793826 \\left(\\frac{y}{p_{1}}\\right)^{\\frac{7}{20}} \\left(\\frac{y}{p_{2}}\\right)^{\\frac{7}{20}}}{p_{3} \\left(\\frac{y}{p_{3}}\\right)^{\\frac{7}{10}}}\\right), \\  \\left( \\frac{0.35 y}{p_{1}}, \\  \\frac{0.35 y}{p_{2}}, \\  \\frac{0.3 y}{p_{3}}, \\  \\frac{0.334182733793826 \\left(\\frac{y}{p_{1}}\\right)^{\\frac{7}{20}} \\left(\\frac{y}{p_{2}}\\right)^{\\frac{7}{20}}}{p_{3} \\left(\\frac{y}{p_{3}}\\right)^{\\frac{7}{10}}}\\right), \\  \\left( \\frac{0.35 y}{p_{1}}, \\  \\frac{0.35 y}{p_{2}}, \\  \\frac{0.3 y}{p_{3}}, \\  \\frac{0.334182733793826 \\left(\\frac{y}{p_{1}}\\right)^{\\frac{7}{20}} \\left(\\frac{y}{p_{2}}\\right)^{\\frac{7}{20}}}{p_{3} \\left(\\frac{y}{p_{3}}\\right)^{\\frac{7}{10}}}\\right), \\  \\left( \\frac{0.35 y}{p_{1}}, \\  \\frac{0.35 y}{p_{2}}, \\  \\frac{0.3 y}{p_{3}}, \\  \\frac{0.334182733793826 \\left(\\frac{y}{p_{1}}\\right)^{\\frac{7}{20}} \\left(\\frac{y}{p_{2}}\\right)^{\\frac{7}{20}}}{p_{3} \\left(\\frac{y}{p_{3}}\\right)^{\\frac{7}{10}}}\\right), \\  \\left( \\frac{0.35 y}{p_{1}}, \\  \\frac{0.35 y}{p_{2}}, \\  \\frac{0.3 y}{p_{3}}, \\  \\frac{0.334182733793826 \\left(\\frac{y}{p_{1}}\\right)^{\\frac{7}{20}} \\left(\\frac{y}{p_{2}}\\right)^{\\frac{7}{20}}}{p_{3} \\left(\\frac{y}{p_{3}}\\right)^{\\frac{7}{10}}}\\right), \\  \\left( \\frac{0.35 y}{p_{1}}, \\  \\frac{0.35 y}{p_{2}}, \\  \\frac{0.3 y}{p_{3}}, \\  \\frac{0.334182733793826 \\left(\\frac{y}{p_{1}}\\right)^{\\frac{7}{20}} \\left(\\frac{y}{p_{2}}\\right)^{\\frac{7}{20}}}{p_{3} \\left(\\frac{y}{p_{3}}\\right)^{\\frac{7}{10}}}\\right), \\  \\left( \\frac{0.35 y}{p_{1}}, \\  \\frac{0.35 y}{p_{2}}, \\  \\frac{0.3 y}{p_{3}}, \\  \\frac{0.334182733793826 \\left(\\frac{y}{p_{1}}\\right)^{\\frac{7}{20}} \\left(\\frac{y}{p_{2}}\\right)^{\\frac{7}{20}}}{p_{3} \\left(\\frac{y}{p_{3}}\\right)^{\\frac{7}{10}}}\\right), \\  \\left( \\frac{0.35 y}{p_{1}}, \\  \\frac{0.35 y}{p_{2}}, \\  \\frac{0.3 y}{p_{3}}, \\  \\frac{0.334182733793826 \\left(\\frac{y}{p_{1}}\\right)^{\\frac{7}{20}} \\left(\\frac{y}{p_{2}}\\right)^{\\frac{7}{20}}}{p_{3} \\left(\\frac{y}{p_{3}}\\right)^{\\frac{7}{10}}}\\right), \\  \\left( \\frac{0.35 y}{p_{1}}, \\  \\frac{0.35 y}{p_{2}}, \\  \\frac{0.3 y}{p_{3}}, \\  \\frac{0.334182733793826 \\left(\\frac{y}{p_{1}}\\right)^{\\frac{7}{20}} \\left(\\frac{y}{p_{2}}\\right)^{\\frac{7}{20}}}{p_{3} \\left(\\frac{y}{p_{3}}\\right)^{\\frac{7}{10}}}\\right), \\  \\left( \\frac{0.35 y}{p_{1}}, \\  \\frac{0.35 y}{p_{2}}, \\  \\frac{0.3 y}{p_{3}}, \\  \\frac{0.334182733793826 \\left(\\frac{y}{p_{1}}\\right)^{\\frac{7}{20}} \\left(\\frac{y}{p_{2}}\\right)^{\\frac{7}{20}}}{p_{3} \\left(\\frac{y}{p_{3}}\\right)^{\\frac{7}{10}}}\\right)\\right]$"
      ],
      "text/plain": [
       "⎡⎛                                             7/20     7/20⎞  ⎛              \n",
       "⎢⎜                                         ⎛y ⎞     ⎛y ⎞    ⎟  ⎜              \n",
       "⎢⎜                       0.334182733793826⋅⎜──⎟    ⋅⎜──⎟    ⎟  ⎜              \n",
       "⎢⎜0.35⋅y  0.35⋅y  0.3⋅y                    ⎝p₁⎠     ⎝p₂⎠    ⎟  ⎜0.35⋅y  0.35⋅y\n",
       "⎢⎜──────, ──────, ─────, ───────────────────────────────────⎟, ⎜──────, ──────\n",
       "⎢⎜  p₁      p₂      p₃                      7/10            ⎟  ⎜  p₁      p₂  \n",
       "⎢⎜                                      ⎛y ⎞                ⎟  ⎜              \n",
       "⎢⎜                                   p₃⋅⎜──⎟                ⎟  ⎜              \n",
       "⎣⎝                                      ⎝p₃⎠                ⎠  ⎝              \n",
       "\n",
       "                               7/20     7/20⎞  ⎛                              \n",
       "                           ⎛y ⎞     ⎛y ⎞    ⎟  ⎜                              \n",
       "         0.334182733793826⋅⎜──⎟    ⋅⎜──⎟    ⎟  ⎜                       0.33418\n",
       "  0.3⋅y                    ⎝p₁⎠     ⎝p₂⎠    ⎟  ⎜0.35⋅y  0.35⋅y  0.3⋅y         \n",
       ", ─────, ───────────────────────────────────⎟, ⎜──────, ──────, ─────, ───────\n",
       "    p₃                      7/10            ⎟  ⎜  p₁      p₂      p₃          \n",
       "                        ⎛y ⎞                ⎟  ⎜                              \n",
       "                     p₃⋅⎜──⎟                ⎟  ⎜                              \n",
       "                        ⎝p₃⎠                ⎠  ⎝                              \n",
       "\n",
       "               7/20     7/20⎞  ⎛                                             7\n",
       "           ⎛y ⎞     ⎛y ⎞    ⎟  ⎜                                         ⎛y ⎞ \n",
       "2733793826⋅⎜──⎟    ⋅⎜──⎟    ⎟  ⎜                       0.334182733793826⋅⎜──⎟ \n",
       "           ⎝p₁⎠     ⎝p₂⎠    ⎟  ⎜0.35⋅y  0.35⋅y  0.3⋅y                    ⎝p₁⎠ \n",
       "────────────────────────────⎟, ⎜──────, ──────, ─────, ───────────────────────\n",
       "            7/10            ⎟  ⎜  p₁      p₂      p₃                      7/10\n",
       "        ⎛y ⎞                ⎟  ⎜                                      ⎛y ⎞    \n",
       "     p₃⋅⎜──⎟                ⎟  ⎜                                   p₃⋅⎜──⎟    \n",
       "        ⎝p₃⎠                ⎠  ⎝                                      ⎝p₃⎠    \n",
       "\n",
       "/20     7/20⎞  ⎛                                             7/20     7/20⎞  ⎛\n",
       "    ⎛y ⎞    ⎟  ⎜                                         ⎛y ⎞     ⎛y ⎞    ⎟  ⎜\n",
       "   ⋅⎜──⎟    ⎟  ⎜                       0.334182733793826⋅⎜──⎟    ⋅⎜──⎟    ⎟  ⎜\n",
       "    ⎝p₂⎠    ⎟  ⎜0.35⋅y  0.35⋅y  0.3⋅y                    ⎝p₁⎠     ⎝p₂⎠    ⎟  ⎜\n",
       "────────────⎟, ⎜──────, ──────, ─────, ───────────────────────────────────⎟, ⎜\n",
       "            ⎟  ⎜  p₁      p₂      p₃                      7/10            ⎟  ⎜\n",
       "            ⎟  ⎜                                      ⎛y ⎞                ⎟  ⎜\n",
       "            ⎟  ⎜                                   p₃⋅⎜──⎟                ⎟  ⎜\n",
       "            ⎠  ⎝                                      ⎝p₃⎠                ⎠  ⎝\n",
       "\n",
       "                                             7/20     7/20⎞  ⎛                \n",
       "                                         ⎛y ⎞     ⎛y ⎞    ⎟  ⎜                \n",
       "                       0.334182733793826⋅⎜──⎟    ⋅⎜──⎟    ⎟  ⎜                \n",
       "0.35⋅y  0.35⋅y  0.3⋅y                    ⎝p₁⎠     ⎝p₂⎠    ⎟  ⎜0.35⋅y  0.35⋅y  \n",
       "──────, ──────, ─────, ───────────────────────────────────⎟, ⎜──────, ──────, \n",
       "  p₁      p₂      p₃                      7/10            ⎟  ⎜  p₁      p₂    \n",
       "                                      ⎛y ⎞                ⎟  ⎜                \n",
       "                                   p₃⋅⎜──⎟                ⎟  ⎜                \n",
       "                                      ⎝p₃⎠                ⎠  ⎝                \n",
       "\n",
       "                             7/20     7/20⎞  ⎛                                \n",
       "                         ⎛y ⎞     ⎛y ⎞    ⎟  ⎜                                \n",
       "       0.334182733793826⋅⎜──⎟    ⋅⎜──⎟    ⎟  ⎜                       0.3341827\n",
       "0.3⋅y                    ⎝p₁⎠     ⎝p₂⎠    ⎟  ⎜0.35⋅y  0.35⋅y  0.3⋅y           \n",
       "─────, ───────────────────────────────────⎟, ⎜──────, ──────, ─────, ─────────\n",
       "  p₃                      7/10            ⎟  ⎜  p₁      p₂      p₃            \n",
       "                      ⎛y ⎞                ⎟  ⎜                                \n",
       "                   p₃⋅⎜──⎟                ⎟  ⎜                                \n",
       "                      ⎝p₃⎠                ⎠  ⎝                                \n",
       "\n",
       "             7/20     7/20⎞  ⎛                                             7/2\n",
       "         ⎛y ⎞     ⎛y ⎞    ⎟  ⎜                                         ⎛y ⎞   \n",
       "33793826⋅⎜──⎟    ⋅⎜──⎟    ⎟  ⎜                       0.334182733793826⋅⎜──⎟   \n",
       "         ⎝p₁⎠     ⎝p₂⎠    ⎟  ⎜0.35⋅y  0.35⋅y  0.3⋅y                    ⎝p₁⎠   \n",
       "──────────────────────────⎟, ⎜──────, ──────, ─────, ─────────────────────────\n",
       "          7/10            ⎟  ⎜  p₁      p₂      p₃                      7/10  \n",
       "      ⎛y ⎞                ⎟  ⎜                                      ⎛y ⎞      \n",
       "   p₃⋅⎜──⎟                ⎟  ⎜                                   p₃⋅⎜──⎟      \n",
       "      ⎝p₃⎠                ⎠  ⎝                                      ⎝p₃⎠      \n",
       "\n",
       "0     7/20⎞  ⎛                                             7/20     7/20⎞  ⎛  \n",
       "  ⎛y ⎞    ⎟  ⎜                                         ⎛y ⎞     ⎛y ⎞    ⎟  ⎜  \n",
       " ⋅⎜──⎟    ⎟  ⎜                       0.334182733793826⋅⎜──⎟    ⋅⎜──⎟    ⎟  ⎜  \n",
       "  ⎝p₂⎠    ⎟  ⎜0.35⋅y  0.35⋅y  0.3⋅y                    ⎝p₁⎠     ⎝p₂⎠    ⎟  ⎜0.\n",
       "──────────⎟, ⎜──────, ──────, ─────, ───────────────────────────────────⎟, ⎜──\n",
       "          ⎟  ⎜  p₁      p₂      p₃                      7/10            ⎟  ⎜  \n",
       "          ⎟  ⎜                                      ⎛y ⎞                ⎟  ⎜  \n",
       "          ⎟  ⎜                                   p₃⋅⎜──⎟                ⎟  ⎜  \n",
       "          ⎠  ⎝                                      ⎝p₃⎠                ⎠  ⎝  \n",
       "\n",
       "                                           7/20     7/20⎞  ⎛                  \n",
       "                                       ⎛y ⎞     ⎛y ⎞    ⎟  ⎜                  \n",
       "                     0.334182733793826⋅⎜──⎟    ⋅⎜──⎟    ⎟  ⎜                  \n",
       "35⋅y  0.35⋅y  0.3⋅y                    ⎝p₁⎠     ⎝p₂⎠    ⎟  ⎜0.35⋅y  0.35⋅y  0.\n",
       "────, ──────, ─────, ───────────────────────────────────⎟, ⎜──────, ──────, ──\n",
       "p₁      p₂      p₃                      7/10            ⎟  ⎜  p₁      p₂      \n",
       "                                    ⎛y ⎞                ⎟  ⎜                  \n",
       "                                 p₃⋅⎜──⎟                ⎟  ⎜                  \n",
       "                                    ⎝p₃⎠                ⎠  ⎝                  \n",
       "\n",
       "                           7/20     7/20⎞  ⎛                                  \n",
       "                       ⎛y ⎞     ⎛y ⎞    ⎟  ⎜                                  \n",
       "     0.334182733793826⋅⎜──⎟    ⋅⎜──⎟    ⎟  ⎜                       0.334182733\n",
       "3⋅y                    ⎝p₁⎠     ⎝p₂⎠    ⎟  ⎜0.35⋅y  0.35⋅y  0.3⋅y             \n",
       "───, ───────────────────────────────────⎟, ⎜──────, ──────, ─────, ───────────\n",
       "p₃                      7/10            ⎟  ⎜  p₁      p₂      p₃              \n",
       "                    ⎛y ⎞                ⎟  ⎜                                  \n",
       "                 p₃⋅⎜──⎟                ⎟  ⎜                                  \n",
       "                    ⎝p₃⎠                ⎠  ⎝                                  \n",
       "\n",
       "           7/20     7/20⎞  ⎛                                             7/20 \n",
       "       ⎛y ⎞     ⎛y ⎞    ⎟  ⎜                                         ⎛y ⎞     \n",
       "793826⋅⎜──⎟    ⋅⎜──⎟    ⎟  ⎜                       0.334182733793826⋅⎜──⎟    ⋅\n",
       "       ⎝p₁⎠     ⎝p₂⎠    ⎟  ⎜0.35⋅y  0.35⋅y  0.3⋅y                    ⎝p₁⎠     \n",
       "────────────────────────⎟, ⎜──────, ──────, ─────, ───────────────────────────\n",
       "        7/10            ⎟  ⎜  p₁      p₂      p₃                      7/10    \n",
       "    ⎛y ⎞                ⎟  ⎜                                      ⎛y ⎞        \n",
       " p₃⋅⎜──⎟                ⎟  ⎜                                   p₃⋅⎜──⎟        \n",
       "    ⎝p₃⎠                ⎠  ⎝                                      ⎝p₃⎠        \n",
       "\n",
       "    7/20⎞  ⎛                                             7/20     7/20⎞  ⎛    \n",
       "⎛y ⎞    ⎟  ⎜                                         ⎛y ⎞     ⎛y ⎞    ⎟  ⎜    \n",
       "⎜──⎟    ⎟  ⎜                       0.334182733793826⋅⎜──⎟    ⋅⎜──⎟    ⎟  ⎜    \n",
       "⎝p₂⎠    ⎟  ⎜0.35⋅y  0.35⋅y  0.3⋅y                    ⎝p₁⎠     ⎝p₂⎠    ⎟  ⎜0.35\n",
       "────────⎟, ⎜──────, ──────, ─────, ───────────────────────────────────⎟, ⎜────\n",
       "        ⎟  ⎜  p₁      p₂      p₃                      7/10            ⎟  ⎜  p₁\n",
       "        ⎟  ⎜                                      ⎛y ⎞                ⎟  ⎜    \n",
       "        ⎟  ⎜                                   p₃⋅⎜──⎟                ⎟  ⎜    \n",
       "        ⎠  ⎝                                      ⎝p₃⎠                ⎠  ⎝    \n",
       "\n",
       "                                         7/20     7/20⎞  ⎛                    \n",
       "                                     ⎛y ⎞     ⎛y ⎞    ⎟  ⎜                    \n",
       "                   0.334182733793826⋅⎜──⎟    ⋅⎜──⎟    ⎟  ⎜                    \n",
       "⋅y  0.35⋅y  0.3⋅y                    ⎝p₁⎠     ⎝p₂⎠    ⎟  ⎜0.35⋅y  0.35⋅y  0.3⋅\n",
       "──, ──────, ─────, ───────────────────────────────────⎟, ⎜──────, ──────, ────\n",
       "      p₂      p₃                      7/10            ⎟  ⎜  p₁      p₂      p₃\n",
       "                                  ⎛y ⎞                ⎟  ⎜                    \n",
       "                               p₃⋅⎜──⎟                ⎟  ⎜                    \n",
       "                                  ⎝p₃⎠                ⎠  ⎝                    \n",
       "\n",
       "                         7/20     7/20⎞⎤\n",
       "                     ⎛y ⎞     ⎛y ⎞    ⎟⎥\n",
       "   0.334182733793826⋅⎜──⎟    ⋅⎜──⎟    ⎟⎥\n",
       "y                    ⎝p₁⎠     ⎝p₂⎠    ⎟⎥\n",
       "─, ───────────────────────────────────⎟⎥\n",
       "                      7/10            ⎟⎥\n",
       "                  ⎛y ⎞                ⎟⎥\n",
       "               p₃⋅⎜──⎟                ⎟⎥\n",
       "                  ⎝p₃⎠                ⎠⎦"
      ]
     },
     "execution_count": 33,
     "metadata": {},
     "output_type": "execute_result"
    }
   ],
   "source": [
    "foc_sol = solve( ( diff(lagr,G), diff(lagr,A), diff(lagr,SV), diff(lagr,lam) ), G,A,SV,lam)\n",
    "\n",
    "foc_sol"
   ]
  },
  {
   "cell_type": "code",
   "execution_count": 21,
   "id": "f28e2689",
   "metadata": {},
   "outputs": [
    {
     "data": {
      "image/png": "[encoded data removed]",
      "text/latex": [
       "$\\displaystyle \\left( \\frac{0.35 y}{p_{1}}, \\  \\frac{0.35 y}{p_{2}}, \\  \\frac{0.3 y}{p_{3}}, \\  \\frac{0.334182733793826 \\left(\\frac{y}{p_{1}}\\right)^{\\frac{7}{20}} \\left(\\frac{y}{p_{2}}\\right)^{\\frac{7}{20}}}{p_{3} \\left(\\frac{y}{p_{3}}\\right)^{\\frac{7}{10}}}\\right)$"
      ],
      "text/plain": [
       "⎛                                             7/20     7/20⎞\n",
       "⎜                                         ⎛y ⎞     ⎛y ⎞    ⎟\n",
       "⎜                       0.334182733793826⋅⎜──⎟    ⋅⎜──⎟    ⎟\n",
       "⎜0.35⋅y  0.35⋅y  0.3⋅y                    ⎝p₁⎠     ⎝p₂⎠    ⎟\n",
       "⎜──────, ──────, ─────, ───────────────────────────────────⎟\n",
       "⎜  p₁      p₂      p₃                      7/10            ⎟\n",
       "⎜                                      ⎛y ⎞                ⎟\n",
       "⎜                                   p₃⋅⎜──⎟                ⎟\n",
       "⎝                                      ⎝p₃⎠                ⎠"
      ]
     },
     "execution_count": 21,
     "metadata": {},
     "output_type": "execute_result"
    }
   ],
   "source": [
    "foc_sol[0]"
   ]
  },
  {
   "cell_type": "code",
   "execution_count": 29,
   "id": "0b0286ca",
   "metadata": {},
   "outputs": [
    {
     "data": {
      "image/png": "[encoded data removed]",
      "text/latex": [
       "$\\displaystyle \\frac{0.35 y}{p_{1}}$"
      ],
      "text/plain": [
       "0.35⋅y\n",
       "──────\n",
       "  p₁  "
      ]
     },
     "execution_count": 29,
     "metadata": {},
     "output_type": "execute_result"
    }
   ],
   "source": [
    "q1star = foc_sol[0][0]\n",
    "\n",
    "q1star"
   ]
  },
  {
   "cell_type": "code",
   "execution_count": 30,
   "id": "ad810bd2",
   "metadata": {},
   "outputs": [
    {
     "data": {
      "image/png": "[encoded data removed]",
      "text/latex": [
       "$\\displaystyle \\frac{0.35 y}{p_{2}}$"
      ],
      "text/plain": [
       "0.35⋅y\n",
       "──────\n",
       "  p₂  "
      ]
     },
     "execution_count": 30,
     "metadata": {},
     "output_type": "execute_result"
    }
   ],
   "source": [
    "q2star = foc_sol[0][1]\n",
    "\n",
    "q2star"
   ]
  },
  {
   "cell_type": "code",
   "execution_count": 31,
   "id": "e2e369be",
   "metadata": {},
   "outputs": [
    {
     "data": {
      "image/png": "[encoded data removed]",
      "text/latex": [
       "$\\displaystyle \\frac{0.3 y}{p_{3}}$"
      ],
      "text/plain": [
       "0.3⋅y\n",
       "─────\n",
       "  p₃ "
      ]
     },
     "execution_count": 31,
     "metadata": {},
     "output_type": "execute_result"
    }
   ],
   "source": [
    "q3star = foc_sol[0][2]\n",
    "\n",
    "q3star"
   ]
  },
  {
   "cell_type": "markdown",
   "id": "372232f1",
   "metadata": {},
   "source": [
    "The optimal consumption bundle is:\n",
    "    \n",
    "\\begin{align}\n",
    "(G^* = \\frac{.35y}{p_1} , A^* \\frac{.35y}{p_2}, SV^* = \\frac{.3Y}{p_3})\n",
    "\\end{align}\n"
   ]
  },
  {
   "cell_type": "markdown",
   "id": "e9aeb2ad",
   "metadata": {},
   "source": [
    "In order to prove that this specific consumption bundle leads to highest possible total of wins, I will use comparative statics. Therefore, using the indirect utility function will help do that, while also letting us escapre from continuously redoing the math previously done in the paper."
   ]
  },
  {
   "cell_type": "code",
   "execution_count": 32,
   "id": "9ccfb855",
   "metadata": {},
   "outputs": [
    {
     "data": {
      "image/png": "[encoded data removed]",
      "text/latex": [
       "$\\displaystyle A^{0.35} G^{0.35} SV^{0.3}$"
      ],
      "text/plain": [
       " 0.35  0.35   0.3\n",
       "A    ⋅G    ⋅SV   "
      ]
     },
     "execution_count": 32,
     "metadata": {},
     "output_type": "execute_result"
    }
   ],
   "source": [
    "v = u.subs([(q1,q1star), (q2,q2star), (q3,q3star)])\n",
    "\n",
    "v"
   ]
  },
  {
   "cell_type": "markdown",
   "id": "a55f0552",
   "metadata": {},
   "source": [
    "Since there are four forward lines(left wing - center - right wing), three defensive pairings, and two goalies on an NHL gameday roster, but 23 on the active roster, I will add one each for simplicity reasons. Also for simplicity reasons, I will base the salary and statistics(2021-22 Regular Season) on specific players that resemble typically what their category should. For instance, Steven Stamkos would be an example of a goal scoring center with 42 goals in the 2021-22 Regular Season, while Sidney Crosby is considered a playmaking center with 53 assists in the same time frame. Their salary hits per year in USD are as follows: 8.5 M and 8.7 M, respectively. The salary cap for the NHL has been a flat rate since the COVID-19 pandemic, which amounts to $81.5 M"
   ]
  },
  {
   "cell_type": "markdown",
   "id": "e0d678ad",
   "metadata": {},
   "source": [
    "Therefore, the categories are as such:\n",
    "    \n",
    "Centers:\n",
    "First line - Playmaker(Mika Zibanejad - 29 goals, 52 Assists, $5.35) or Goalscorer(Elias Lindholm - 40 goals, 52 Assists"
   ]
  }
 ],
 "metadata": {
  "kernelspec": {
   "display_name": "Python 3 (ipykernel)",
   "language": "python",
   "name": "python3"
  },
  "language_info": {
   "codemirror_mode": {
    "name": "ipython",
    "version": 3
   },
   "file_extension": ".py",
   "mimetype": "text/x-python",
   "name": "python",
   "nbconvert_exporter": "python",
   "pygments_lexer": "ipython3",
   "version": "3.9.12"
  }
 },
 "nbformat": 4,
 "nbformat_minor": 5
}
