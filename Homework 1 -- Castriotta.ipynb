{
 "cells": [
  {
   "cell_type": "code",
   "execution_count": 2,
   "id": "adbabd6f",
   "metadata": {},
   "outputs": [],
   "source": [
    "from sympy import *"
   ]
  },
  {
   "cell_type": "code",
   "execution_count": 3,
   "id": "0511dc46",
   "metadata": {},
   "outputs": [],
   "source": [
    "import matplotlib"
   ]
  },
  {
   "cell_type": "code",
   "execution_count": 5,
   "id": "17f73441",
   "metadata": {},
   "outputs": [],
   "source": [
    "init_printing()"
   ]
  },
  {
   "cell_type": "markdown",
   "id": "14e4c058",
   "metadata": {},
   "source": [
    "Q1 (a)\n",
    "\n",
    "\\begin{align}\n",
    "Q_d &= 52 - 5p + 4pf + 0.1Y \\\\\n",
    "    &= 52 - 5p + 8 + 20 \\\\\n",
    "    &= 80 - 5p\n",
    "\\end{align}"
   ]
  },
  {
   "cell_type": "code",
   "execution_count": 8,
   "id": "0d741e81",
   "metadata": {},
   "outputs": [],
   "source": [
    "p, pf, Y = symbols('p, p_f, Y')"
   ]
  },
  {
   "cell_type": "code",
   "execution_count": 12,
   "id": "2d874262",
   "metadata": {},
   "outputs": [
    {
     "data": {
      "image/png": "[encoded data removed]",
      "text/latex": [
       "$\\displaystyle 0.1 Y - 5 p + 4 p_{f} + 52$"
      ],
      "text/plain": [
       "0.1⋅Y - 5⋅p + 4⋅p_f + 52"
      ]
     },
     "execution_count": 12,
     "metadata": {},
     "output_type": "execute_result"
    }
   ],
   "source": [
    "Qd = 52-5*p + 4*pf + 0.1*Y\n",
    "Qd"
   ]
  },
  {
   "cell_type": "code",
   "execution_count": 11,
   "id": "b6a95be8",
   "metadata": {},
   "outputs": [
    {
     "data": {
      "image/png": "[encoded data removed]",
      "text/latex": [
       "$\\displaystyle 80.0 - 5 p$"
      ],
      "text/plain": [
       "80.0 - 5⋅p"
      ]
     },
     "execution_count": 11,
     "metadata": {},
     "output_type": "execute_result"
    }
   ],
   "source": [
    "Qd.subs([(pf,2), (Y,200)])"
   ]
  },
  {
   "cell_type": "markdown",
   "id": "941aaa98",
   "metadata": {},
   "source": [
    "(b)\n",
    "\n",
    "If price increases by $1, quantity demanded decreases by 5 \n",
    "\n",
    "The slope of the plotted inverse demand curve is -5 \n",
    "\n",
    "The slope of the demand curve is equal to 1/∂Qd/∂p because of the elasticity of demand \n"
   ]
  },
  {
   "cell_type": "markdown",
   "id": "b5572bfa",
   "metadata": {},
   "source": [
    "(c)\n",
    "\n",
    "\\begin{align}\n",
    "Q_d &= 52 - 5p + 4pf + 0.1Y \\\\\n",
    "    &= 52 - 5p + 8 + 30 \\\\\n",
    "    &= 90 - 5p\n",
    "\\end{align}"
   ]
  },
  {
   "cell_type": "markdown",
   "id": "45534215",
   "metadata": {},
   "source": [
    "2(a)\n",
    "\n"
   ]
  },
  {
   "cell_type": "markdown",
   "id": "81c11d40",
   "metadata": {},
   "source": [
    "6(a)"
   ]
  },
  {
   "cell_type": "code",
   "execution_count": 14,
   "id": "4f17defb",
   "metadata": {},
   "outputs": [
    {
     "data": {
      "image/png": "[encoded data removed]",
      "text/latex": [
       "$\\displaystyle 6 - 2 p$"
      ],
      "text/plain": [
       "6 - 2⋅p"
      ]
     },
     "execution_count": 14,
     "metadata": {},
     "output_type": "execute_result"
    }
   ],
   "source": [
    "Qd = 6 - 2*p\n",
    "Qd"
   ]
  },
  {
   "cell_type": "markdown",
   "id": "fb379457",
   "metadata": {},
   "source": [
    "The derivative is: $\\frac{\\partial Q_d}{\\partial p} = -2$"
   ]
  },
  {
   "cell_type": "code",
   "execution_count": 15,
   "id": "b5d49c40",
   "metadata": {},
   "outputs": [
    {
     "data": {
      "image/png": "[encoded data removed]",
      "text/latex": [
       "$\\displaystyle -2$"
      ],
      "text/plain": [
       "-2"
      ]
     },
     "execution_count": 15,
     "metadata": {},
     "output_type": "execute_result"
    }
   ],
   "source": [
    "Qd.diff(p) "
   ]
  },
  {
   "cell_type": "markdown",
   "id": "0c782f77",
   "metadata": {},
   "source": [
    "Elasticity is:"
   ]
  },
  {
   "cell_type": "code",
   "execution_count": 24,
   "id": "3094ceb0",
   "metadata": {},
   "outputs": [
    {
     "data": {
      "image/png": "[encoded data removed]",
      "text/latex": [
       "$\\displaystyle -2$"
      ],
      "text/plain": [
       "-2"
      ]
     },
     "execution_count": 24,
     "metadata": {},
     "output_type": "execute_result"
    }
   ],
   "source": [
    "Qd.diff(p) * p/Qd"
   ]
  },
  {
   "cell_type": "markdown",
   "id": "cd99f9fd",
   "metadata": {},
   "source": [
    "6(b)"
   ]
  },
  {
   "cell_type": "code",
   "execution_count": 27,
   "id": "79df7e44",
   "metadata": {},
   "outputs": [
    {
     "data": {
      "image/png": "[encoded data removed]",
      "text/latex": [
       "$\\displaystyle \\frac{6 Y^{5} p_{s}^{3}}{p^{2} p_{c}^{4}}$"
      ],
      "text/plain": [
       "   5   3\n",
       "6⋅Y ⋅pₛ \n",
       "────────\n",
       " 2    4 \n",
       "p ⋅p_c  "
      ]
     },
     "execution_count": 27,
     "metadata": {},
     "output_type": "execute_result"
    }
   ],
   "source": [
    "p, ps, pc, Y = symbols('p, p_s, p_c, Y')\n",
    "\n",
    "Qd = 6*p**-2 * Y**5 * ps**3 * pc**-4\n",
    "Qd"
   ]
  },
  {
   "cell_type": "markdown",
   "id": "ceab51e6",
   "metadata": {},
   "source": [
    "The derivative is:\n",
    "\n",
    "\\begin{align}\n",
    "\\frac{\\partial Q_d}{\\partial p} &= \\frac{\\partial}{\\partial p} {6 p^-2 * Y^5 * p_s^3 * p_c^-4} \\\\\n",
    "    &= \\frac{\\partial}{\\partial p} {Y^5 * p_s^3 * p_c^-4} * \\frac{\\partial}{\\partial p} ({6 p^2}) \\\\\n",
    "    &= \\frac{-12 Y^5 * p_s^3}{p^3 * p_c^4}\n",
    "\\end{align}"
   ]
  },
  {
   "cell_type": "code",
   "execution_count": 32,
   "id": "fe65a475",
   "metadata": {
    "scrolled": false
   },
   "outputs": [
    {
     "data": {
      "image/png": "[encoded data removed]",
      "text/latex": [
       "$\\displaystyle - \\frac{12 Y^{5} p_{s}^{3}}{p^{3} p_{c}^{4}}$"
      ],
      "text/plain": [
       "     5   3 \n",
       "-12⋅Y ⋅pₛ  \n",
       "───────────\n",
       "   3    4  \n",
       "  p ⋅p_c   "
      ]
     },
     "execution_count": 32,
     "metadata": {},
     "output_type": "execute_result"
    }
   ],
   "source": [
    "Qd.diff(p)"
   ]
  },
  {
   "cell_type": "markdown",
   "id": "c9c295d4",
   "metadata": {},
   "source": [
    "Price Elasticity: "
   ]
  },
  {
   "cell_type": "code",
   "execution_count": 38,
   "id": "4dcbbc76",
   "metadata": {},
   "outputs": [
    {
     "data": {
      "image/png": "[encoded data removed]",
      "text/latex": [
       "$\\displaystyle -2$"
      ],
      "text/plain": [
       "-2"
      ]
     },
     "execution_count": 38,
     "metadata": {},
     "output_type": "execute_result"
    }
   ],
   "source": [
    "Qd.diff(p) * p/Qd"
   ]
  },
  {
   "cell_type": "markdown",
   "id": "39b285b8",
   "metadata": {},
   "source": [
    "6(c)"
   ]
  },
  {
   "cell_type": "code",
   "execution_count": 40,
   "id": "6e079ea1",
   "metadata": {},
   "outputs": [
    {
     "data": {
      "image/png": "[encoded data removed]",
      "text/latex": [
       "$\\displaystyle \\frac{6 Y^{5} p_{s}^{3}}{p^{2} p_{c}^{4}}$"
      ],
      "text/plain": [
       "   5   3\n",
       "6⋅Y ⋅pₛ \n",
       "────────\n",
       " 2    4 \n",
       "p ⋅p_c  "
      ]
     },
     "execution_count": 40,
     "metadata": {},
     "output_type": "execute_result"
    }
   ],
   "source": [
    "p, ps, pc, Y = symbols('p, p_s, p_c, Y')\n",
    "\n",
    "Qd = 6*p**-2 * Y**5 * ps**3 * pc**-4\n",
    "Qd"
   ]
  },
  {
   "cell_type": "markdown",
   "id": "2556902d",
   "metadata": {},
   "source": [
    "The derivative is:\n",
    "\n",
    "\\begin{align}\n",
    "\\frac{\\partial Q_d}{\\partial p} &= \\frac{\\partial}{\\partial p} {6 p^-2 * Y^5 * p_s^3 * p_c^-4} \\\\\n",
    "    &= \\frac{\\partial}{\\partial p} {6 p^2 * p_s^3 * p_c^-4} * \\frac{\\partial}{\\partial p} ({Y^5}) \\\\\n",
    "    &= \\frac{ 30Y^4 * p_s^3}{p^2 * p_c^4}\n",
    "\\end{align}"
   ]
  },
  {
   "cell_type": "code",
   "execution_count": 42,
   "id": "e692ac87",
   "metadata": {},
   "outputs": [
    {
     "data": {
      "image/png": "[encoded data removed]",
      "text/latex": [
       "$\\displaystyle \\frac{30 Y^{4} p_{s}^{3}}{p^{2} p_{c}^{4}}$"
      ],
      "text/plain": [
       "    4   3\n",
       "30⋅Y ⋅pₛ \n",
       "─────────\n",
       "  2    4 \n",
       " p ⋅p_c  "
      ]
     },
     "execution_count": 42,
     "metadata": {},
     "output_type": "execute_result"
    }
   ],
   "source": [
    "Qd.diff(Y)"
   ]
  },
  {
   "cell_type": "markdown",
   "id": "b232debc",
   "metadata": {},
   "source": [
    "Price elasticity: "
   ]
  },
  {
   "cell_type": "code",
   "execution_count": 45,
   "id": "c4059825",
   "metadata": {},
   "outputs": [
    {
     "data": {
      "image/png": "[encoded data removed]",
      "text/latex": [
       "$\\displaystyle 5$"
      ],
      "text/plain": [
       "5"
      ]
     },
     "execution_count": 45,
     "metadata": {},
     "output_type": "execute_result"
    }
   ],
   "source": [
    "Qd.diff(Y) * Y/Qd"
   ]
  },
  {
   "cell_type": "markdown",
   "id": "f1318458",
   "metadata": {},
   "source": [
    "6(d)"
   ]
  },
  {
   "cell_type": "code",
   "execution_count": 46,
   "id": "f5d234c9",
   "metadata": {},
   "outputs": [
    {
     "data": {
      "image/png": "[encoded data removed]",
      "text/latex": [
       "$\\displaystyle \\frac{6 Y^{5}}{p^{2}}$"
      ],
      "text/plain": [
       "   5\n",
       "6⋅Y \n",
       "────\n",
       "  2 \n",
       " p  "
      ]
     },
     "execution_count": 46,
     "metadata": {},
     "output_type": "execute_result"
    }
   ],
   "source": [
    "Qd = exp(ln(6) - 2* ln(p) + 5*ln(Y))\n",
    "Qd"
   ]
  },
  {
   "cell_type": "markdown",
   "id": "4af56aaf",
   "metadata": {},
   "source": [
    "The derivative is:"
   ]
  },
  {
   "cell_type": "code",
   "execution_count": 47,
   "id": "113e2f69",
   "metadata": {},
   "outputs": [
    {
     "data": {
      "image/png": "[encoded data removed]",
      "text/latex": [
       "$\\displaystyle - \\frac{12 Y^{5}}{p^{3}}$"
      ],
      "text/plain": [
       "     5 \n",
       "-12⋅Y  \n",
       "───────\n",
       "    3  \n",
       "   p   "
      ]
     },
     "execution_count": 47,
     "metadata": {},
     "output_type": "execute_result"
    }
   ],
   "source": [
    "Qd.diff(p) "
   ]
  },
  {
   "cell_type": "markdown",
   "id": "71090b65",
   "metadata": {},
   "source": [
    "The elasticity is:"
   ]
  },
  {
   "cell_type": "code",
   "execution_count": 50,
   "id": "508ac08e",
   "metadata": {},
   "outputs": [
    {
     "data": {
      "image/png": "[encoded data removed]",
      "text/latex": [
       "$\\displaystyle -2$"
      ],
      "text/plain": [
       "-2"
      ]
     },
     "execution_count": 50,
     "metadata": {},
     "output_type": "execute_result"
    }
   ],
   "source": [
    "Qd.diff(p) * p/Qd"
   ]
  },
  {
   "cell_type": "markdown",
   "id": "b8bdc8a6",
   "metadata": {},
   "source": [
    "6(e)"
   ]
  },
  {
   "cell_type": "code",
   "execution_count": 60,
   "id": "d8ca8021",
   "metadata": {},
   "outputs": [],
   "source": [
    "from sympy import *\n",
    "from sympy.stats import *\n",
    "alpha = symbols('a', real = True, Positive = True)\n",
    "euler = symbols('e', real = True, Positive = True)\n",
    "Xi = symbols('xi', real = True, Positive = True)                "
   ]
  },
  {
   "cell_type": "code",
   "execution_count": 61,
   "id": "b75a9a05",
   "metadata": {},
   "outputs": [],
   "source": [
    " p = symbols('p')"
   ]
  },
  {
   "cell_type": "code",
   "execution_count": 67,
   "id": "669f1294",
   "metadata": {},
   "outputs": [
    {
     "data": {
      "image/png": "[encoded data removed]",
      "text/latex": [
       "$\\displaystyle a e^{e \\log{\\left(p \\right)} + \\xi \\log{\\left(Y \\right)}}$"
      ],
      "text/plain": [
       "   e⋅log(p) + ξ⋅log(Y)\n",
       "a⋅ℯ                   "
      ]
     },
     "execution_count": 67,
     "metadata": {},
     "output_type": "execute_result"
    }
   ],
   "source": [
    "Qd = exp(ln(a) + euler* ln(p) + Xi* ln(Y))\n",
    "Qd"
   ]
  },
  {
   "cell_type": "markdown",
   "id": "e4ab55a2",
   "metadata": {},
   "source": [
    "The derivative is:"
   ]
  },
  {
   "cell_type": "code",
   "execution_count": 65,
   "id": "a6b95c3a",
   "metadata": {},
   "outputs": [
    {
     "data": {
      "image/png": "[encoded data removed]",
      "text/latex": [
       "$\\displaystyle \\frac{a e e^{e \\log{\\left(p \\right)} + \\xi \\log{\\left(Y \\right)}}}{p}$"
      ],
      "text/plain": [
       "     e⋅log(p) + ξ⋅log(Y)\n",
       "a⋅e⋅ℯ                   \n",
       "────────────────────────\n",
       "           p            "
      ]
     },
     "execution_count": 65,
     "metadata": {},
     "output_type": "execute_result"
    }
   ],
   "source": [
    "Qd.diff(p)"
   ]
  },
  {
   "cell_type": "code",
   "execution_count": 66,
   "id": "db1af47c",
   "metadata": {},
   "outputs": [
    {
     "data": {
      "image/png": "[encoded data removed]",
      "text/latex": [
       "$\\displaystyle e e^{- e \\log{\\left(p \\right)} - \\xi \\log{\\left(Y \\right)}} e^{e \\log{\\left(p \\right)} + \\xi \\log{\\left(Y \\right)}}$"
      ],
      "text/plain": [
       "   -e⋅log(p) - ξ⋅log(Y)  e⋅log(p) + ξ⋅log(Y)\n",
       "e⋅ℯ                    ⋅ℯ                   "
      ]
     },
     "execution_count": 66,
     "metadata": {},
     "output_type": "execute_result"
    }
   ],
   "source": [
    "Qd.diff(p) * p/Qd"
   ]
  },
  {
   "cell_type": "code",
   "execution_count": null,
   "id": "c933aa35",
   "metadata": {},
   "outputs": [],
   "source": []
  }
 ],
 "metadata": {
  "kernelspec": {
   "display_name": "Python 3 (ipykernel)",
   "language": "python",
   "name": "python3"
  },
  "language_info": {
   "codemirror_mode": {
    "name": "ipython",
    "version": 3
   },
   "file_extension": ".py",
   "mimetype": "text/x-python",
   "name": "python",
   "nbconvert_exporter": "python",
   "pygments_lexer": "ipython3",
   "version": "3.9.12"
  }
 },
 "nbformat": 4,
 "nbformat_minor": 5
}
