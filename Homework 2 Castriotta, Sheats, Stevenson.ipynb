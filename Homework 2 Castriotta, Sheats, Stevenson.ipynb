{
 "cells": [
  {
   "cell_type": "code",
   "execution_count": 2,
   "id": "e096396c",
   "metadata": {},
   "outputs": [],
   "source": [
    "from sympy import *"
   ]
  },
  {
   "cell_type": "code",
   "execution_count": 3,
   "id": "26421a96",
   "metadata": {},
   "outputs": [],
   "source": [
    "import matplotlib"
   ]
  },
  {
   "cell_type": "code",
   "execution_count": 4,
   "id": "ea4edd58",
   "metadata": {},
   "outputs": [],
   "source": [
    "init_printing()"
   ]
  },
  {
   "cell_type": "markdown",
   "id": "7220778a",
   "metadata": {},
   "source": [
    "# Q1\n"
   ]
  },
  {
   "cell_type": "code",
   "execution_count": 5,
   "id": "775ab3fe",
   "metadata": {},
   "outputs": [],
   "source": [
    "q1, q2, p1, p2, y = symbols('q1 q2 p1 p2 y')\n",
    "\n",
    "alpha = symbols('alpha')"
   ]
  },
  {
   "cell_type": "markdown",
   "id": "50d5d15e",
   "metadata": {},
   "source": [
    "a)\n",
    "\n",
    "\\begin{align}\n",
    "U(q_1,q_2) &= q_1^.4*q_2^.6\n",
    "\\end{align}"
   ]
  },
  {
   "cell_type": "markdown",
   "id": "1b2c3741",
   "metadata": {},
   "source": [
    "\\begin{align}\n",
    "\\frac{\\partial U} {\\partial q_1} &= 0.4q_1^{-0.6} q_2^{0.6}\\\\\n",
    "\\frac{\\partial U} {\\partial q_2} &= 0.6q_1^{0.4} q_2^-0.4\\\\\n",
    "-\\frac{U_1}{U_2} &= -\\frac{0.4q_1^{-0.6}q_2^{0.6}}{0.6q_1^{0.4} q_2^{-0.4}} =-\\frac{0.4}{0.6}\\frac{q_2^{0.4}q_2^{0.6}}{q_1^{0.4}q_1^{0.6}} = - \\frac{0.4}{0.6} \\frac{q_2}{q_1}\\\\\n",
    "MRS &= - \\frac {0.4}{0.6} \\frac{q_2}{q_1}\\\\\n",
    "\\end{align}"
   ]
  },
  {
   "cell_type": "code",
   "execution_count": 14,
   "id": "780e4643",
   "metadata": {},
   "outputs": [],
   "source": [
    "q_1, q_2 = symbols('q_1 , q_2')"
   ]
  },
  {
   "cell_type": "code",
   "execution_count": 15,
   "id": "2679b4d7",
   "metadata": {},
   "outputs": [
    {
     "data": {
      "image/png": "[encoded data removed]",
      "text/latex": [
       "$\\displaystyle q_{1}^{0.4} q_{2}^{0.6}$"
      ],
      "text/plain": [
       "  0.4   0.6\n",
       "q₁   ⋅q₂   "
      ]
     },
     "execution_count": 15,
     "metadata": {},
     "output_type": "execute_result"
    }
   ],
   "source": [
    "U= (q_1**(0.4) * q_2**(0.6))\n",
    "U"
   ]
  },
  {
   "cell_type": "code",
   "execution_count": 16,
   "id": "588e533a",
   "metadata": {},
   "outputs": [
    {
     "data": {
      "image/png": "[encoded data removed]",
      "text/latex": [
       "$\\displaystyle \\frac{0.4 q_{2}^{0.6}}{q_{1}^{0.6}}$"
      ],
      "text/plain": [
       "      -0.6   0.6\n",
       "0.4⋅q₁    ⋅q₂   "
      ]
     },
     "execution_count": 16,
     "metadata": {},
     "output_type": "execute_result"
    }
   ],
   "source": [
    "U_1 = diff(U,q_1)\n",
    "U_1"
   ]
  },
  {
   "cell_type": "code",
   "execution_count": 17,
   "id": "310fcf8e",
   "metadata": {},
   "outputs": [
    {
     "data": {
      "image/png": "[encoded data removed]",
      "text/latex": [
       "$\\displaystyle \\frac{0.6 q_{1}^{0.4}}{q_{2}^{0.4}}$"
      ],
      "text/plain": [
       "      0.4   -0.4\n",
       "0.6⋅q₁   ⋅q₂    "
      ]
     },
     "execution_count": 17,
     "metadata": {},
     "output_type": "execute_result"
    }
   ],
   "source": [
    "U_2 = diff(U,q_2)\n",
    "U_2"
   ]
  },
  {
   "cell_type": "code",
   "execution_count": 18,
   "id": "8181f81b",
   "metadata": {},
   "outputs": [
    {
     "data": {
      "image/png": "[encoded data removed]",
      "text/latex": [
       "$\\displaystyle - \\frac{0.666666666666667 q_{2}^{1.0}}{q_{1}^{1.0}}$"
      ],
      "text/plain": [
       "                     -1.0   1.0\n",
       "-0.666666666666667⋅q₁    ⋅q₂   "
      ]
     },
     "execution_count": 18,
     "metadata": {},
     "output_type": "execute_result"
    }
   ],
   "source": [
    "#find MRS\n",
    "- (U_1 / U_2)"
   ]
  },
  {
   "cell_type": "markdown",
   "id": "75bb042f",
   "metadata": {},
   "source": [
    "b)\n",
    "\n",
    "$MRS_{1,2}$ for CD Utility function\n",
    "\\begin{align}\n",
    "U(q_1, q_2) &= q_1^{\\alpha}q_2^{1-\\alpha}\\\\\n",
    "-\\frac{U_1}{U_2}&= -\\frac{\\alpha q_1^{\\alpha-1}q_2^{1-\\alpha}}{{(1-\\alpha)}q_1^{\\alpha}q_2^{-\\alpha}}\\\\\n",
    "-\\frac{U_1}{U_2}&= \\frac{\\alpha}{(1-\\alpha)}\\frac{q_2^{1-\\alpha}q_2^{\\alpha}}{q_1^{\\alpha}q_1^{-\\alpha+1}}\\\\\n",
    "MRS &= -\\frac {\\alpha} {1-\\alpha} \\frac{q_2}{q_1}\\\\\n",
    "\\end{align}"
   ]
  },
  {
   "cell_type": "code",
   "execution_count": 19,
   "id": "6d4576a0",
   "metadata": {},
   "outputs": [],
   "source": [
    "q_1, q_2 = symbols('q_1 , q_2') "
   ]
  },
  {
   "cell_type": "code",
   "execution_count": 23,
   "id": "488841eb",
   "metadata": {},
   "outputs": [
    {
     "data": {
      "image/png": "[encoded data removed]",
      "text/latex": [
       "$\\displaystyle q_{1}^{\\alpha} q_{2}^{1 - \\alpha}$"
      ],
      "text/plain": [
       "  α   1 - α\n",
       "q₁ ⋅q₂     "
      ]
     },
     "execution_count": 23,
     "metadata": {},
     "output_type": "execute_result"
    }
   ],
   "source": [
    "U = (q_1**(alpha) * q_2**(1-alpha))\n",
    "U"
   ]
  },
  {
   "cell_type": "code",
   "execution_count": 26,
   "id": "5ba951de",
   "metadata": {},
   "outputs": [
    {
     "data": {
      "image/png": "[encoded data removed]",
      "text/latex": [
       "$\\displaystyle \\frac{\\alpha q_{1}^{\\alpha} q_{2}^{1 - \\alpha}}{q_{1}}$"
      ],
      "text/plain": [
       "    α   1 - α\n",
       "α⋅q₁ ⋅q₂     \n",
       "─────────────\n",
       "      q₁     "
      ]
     },
     "execution_count": 26,
     "metadata": {},
     "output_type": "execute_result"
    }
   ],
   "source": [
    "U_1 = diff(U,q_1)\n",
    "\n",
    "U_1"
   ]
  },
  {
   "cell_type": "code",
   "execution_count": 27,
   "id": "e11d4c46",
   "metadata": {},
   "outputs": [
    {
     "data": {
      "image/png": "[encoded data removed]",
      "text/latex": [
       "$\\displaystyle \\frac{q_{1}^{\\alpha} q_{2}^{1 - \\alpha} \\left(1 - \\alpha\\right)}{q_{2}}$"
      ],
      "text/plain": [
       "  α   1 - α        \n",
       "q₁ ⋅q₂     ⋅(1 - α)\n",
       "───────────────────\n",
       "         q₂        "
      ]
     },
     "execution_count": 27,
     "metadata": {},
     "output_type": "execute_result"
    }
   ],
   "source": [
    "U_2 = diff(U,q_2)\n",
    "\n",
    "U_2"
   ]
  },
  {
   "cell_type": "markdown",
   "id": "aa71aea4",
   "metadata": {},
   "source": [
    "MRS: "
   ]
  },
  {
   "cell_type": "code",
   "execution_count": 28,
   "id": "51cac8fb",
   "metadata": {},
   "outputs": [
    {
     "data": {
      "image/png": "[encoded data removed]",
      "text/latex": [
       "$\\displaystyle - \\frac{\\alpha q_{2} q_{2}^{1 - \\alpha} q_{2}^{\\alpha - 1}}{q_{1} \\cdot \\left(1 - \\alpha\\right)}$"
      ],
      "text/plain": [
       "        1 - α   α - 1 \n",
       "-α⋅q₂⋅q₂     ⋅q₂      \n",
       "──────────────────────\n",
       "      q₁⋅(1 - α)      "
      ]
     },
     "execution_count": 28,
     "metadata": {},
     "output_type": "execute_result"
    }
   ],
   "source": [
    "-U_1 / U_2"
   ]
  },
  {
   "cell_type": "markdown",
   "id": "7cc0ee15",
   "metadata": {},
   "source": [
    "c)\n",
    "\n",
    "$MRS_{1,2}$ for CD Utility Function\n",
    "\\begin{align}\n",
    "U(q_1, q_2)=({\\alpha})ln(q_1)+(1-\\alpha)ln(q_2)\n",
    "\\end{align}\n",
    "\n",
    "\\begin{align}\n",
    "\\frac{\\partial U} {\\partial q_1} &= \\alpha\\frac{1}{q_1}\\\\\n",
    "\\frac{\\partial U} {\\partial q_2} &= (1-\\alpha)\\frac{1}{q_2}\\\\\n",
    "-\\frac{\\alpha q_1^{-1}}{(1-\\alpha) q_2^{-1}} &= -\\frac {\\alpha} {1-\\alpha} \\frac{q_2}{q_1}\\\\\n",
    "MRS &= -\\frac {\\alpha} {1-\\alpha} \\frac{q_2}{q_1}\n",
    "\\end{align}"
   ]
  },
  {
   "cell_type": "code",
   "execution_count": 29,
   "id": "a2a87eea",
   "metadata": {},
   "outputs": [
    {
     "data": {
      "image/png": "[encoded data removed]",
      "text/latex": [
       "$\\displaystyle \\frac{\\alpha}{q_{1}}$"
      ],
      "text/plain": [
       "α \n",
       "──\n",
       "q₁"
      ]
     },
     "execution_count": 29,
     "metadata": {},
     "output_type": "execute_result"
    }
   ],
   "source": [
    "u_1 = alpha*(1/q_1)\n",
    "\n",
    "u_1"
   ]
  },
  {
   "cell_type": "code",
   "execution_count": 31,
   "id": "29427228",
   "metadata": {},
   "outputs": [
    {
     "data": {
      "image/png": "[encoded data removed]",
      "text/latex": [
       "$\\displaystyle \\frac{1 - \\alpha}{q_{2}}$"
      ],
      "text/plain": [
       "1 - α\n",
       "─────\n",
       "  q₂ "
      ]
     },
     "execution_count": 31,
     "metadata": {},
     "output_type": "execute_result"
    }
   ],
   "source": [
    "u_2 = (1-alpha) * 1/q_2\n",
    "\n",
    "u_2"
   ]
  },
  {
   "cell_type": "code",
   "execution_count": 32,
   "id": "024a682f",
   "metadata": {},
   "outputs": [
    {
     "data": {
      "image/png": "[encoded data removed]",
      "text/latex": [
       "$\\displaystyle - \\frac{\\alpha q_{2}}{q_{1} \\cdot \\left(1 - \\alpha\\right)}$"
      ],
      "text/plain": [
       "  -α⋅q₂   \n",
       "──────────\n",
       "q₁⋅(1 - α)"
      ]
     },
     "execution_count": 32,
     "metadata": {},
     "output_type": "execute_result"
    }
   ],
   "source": [
    "-u_1/u_2"
   ]
  },
  {
   "cell_type": "markdown",
   "id": "1426af4c",
   "metadata": {},
   "source": [
    "# Q2"
   ]
  },
  {
   "cell_type": "markdown",
   "id": "19465e6e",
   "metadata": {},
   "source": [
    "a)"
   ]
  },
  {
   "cell_type": "markdown",
   "id": "f44a003c",
   "metadata": {},
   "source": [
    "$$U(q_1,q_2)=(q_1^.04+q_2^.04)^{1/0.4}$$\n",
    "\n",
    "$$q_1,q_2$$\n",
    "\n",
    "$$U_1=\\frac{\\partial U}{\\partial q_1}=(0.4q_1^{-0.4}q_2^{0.4})^{1/0.4}=0.4(\\frac{q_2}{q_1})^{1/0.4}$$\n",
    "\n",
    "$$U_2=\\frac{\\partial U}{\\partial q_2}=(0.4q_1^{0.4}q_2^{-0.4})^{1/−0.4}=0.4(\\frac{q_1}{q_2})^{0.4/1}$$\n",
    "\n",
    "$$MRS_1,_2=-(\\frac{U_1}{U_2})=(0.4(\\frac{q_2}{q_1})^{1/0.4})\\(0.4(\\frac{q_1}{q_2})^{0.4/1})$$$$=-1\\frac{q_2}{q_1}$$"
   ]
  },
  {
   "cell_type": "code",
   "execution_count": 6,
   "id": "7c52d228",
   "metadata": {},
   "outputs": [
    {
     "data": {
      "image/png": "[encoded data removed]",
      "text/latex": [
       "$\\displaystyle \\left(q_{1}^{0.4} + q_{2}^{0.4}\\right)^{2.5}$"
      ],
      "text/plain": [
       "               2.5\n",
       "⎛  0.4     0.4⎞   \n",
       "⎝q₁    + q₂   ⎠   "
      ]
     },
     "execution_count": 6,
     "metadata": {},
     "output_type": "execute_result"
    }
   ],
   "source": [
    "rho = symbols('rho', positive=True)\n",
    "\n",
    "u = (q1**(0.4) + q2**(0.4))**(1/0.4)\n",
    "\n",
    "u "
   ]
  },
  {
   "cell_type": "code",
   "execution_count": 11,
   "id": "afdb9340",
   "metadata": {},
   "outputs": [
    {
     "data": {
      "image/png": "[encoded data removed]",
      "text/latex": [
       "$\\displaystyle \\lambda \\left(- p_{1} q_{1} - p_{2} q_{2} + y\\right) + \\left(q_{1}^{0.4} + q_{2}^{0.4}\\right)^{2.5}$"
      ],
      "text/plain": [
       "                                        2.5\n",
       "                         ⎛  0.4     0.4⎞   \n",
       "λ⋅(-p₁⋅q₁ - p₂⋅q₂ + y) + ⎝q₁    + q₂   ⎠   "
      ]
     },
     "execution_count": 11,
     "metadata": {},
     "output_type": "execute_result"
    }
   ],
   "source": [
    "lam = Symbol('lambda')\n",
    "lagr = u + lam *(y - p1*q1 - p2*q2)\n",
    "lagr"
   ]
  },
  {
   "cell_type": "code",
   "execution_count": 11,
   "id": "3f35bff3",
   "metadata": {},
   "outputs": [
    {
     "data": {
      "image/png": "[encoded data removed]",
      "text/latex": [
       "$\\displaystyle \\left[ \\left( \\frac{0.4 y}{p_{1}}, \\  \\frac{0.6 y}{p_{2}}, \\  \\frac{0.510169800250316 \\left(\\frac{y}{p_{2}}\\right)^{\\frac{3}{5}}}{p_{1} \\left(\\frac{y}{p_{1}}\\right)^{\\frac{3}{5}}}\\right)\\right]$"
      ],
      "text/plain": [
       "⎡⎛                                    3/5⎞⎤\n",
       "⎢⎜                                ⎛y ⎞   ⎟⎥\n",
       "⎢⎜              0.510169800250316⋅⎜──⎟   ⎟⎥\n",
       "⎢⎜0.4⋅y  0.6⋅y                    ⎝p₂⎠   ⎟⎥\n",
       "⎢⎜─────, ─────, ─────────────────────────⎟⎥\n",
       "⎢⎜  p₁     p₂                  3/5       ⎟⎥\n",
       "⎢⎜                         ⎛y ⎞          ⎟⎥\n",
       "⎢⎜                      p₁⋅⎜──⎟          ⎟⎥\n",
       "⎣⎝                         ⎝p₁⎠          ⎠⎦"
      ]
     },
     "execution_count": 11,
     "metadata": {},
     "output_type": "execute_result"
    }
   ],
   "source": [
    "foc_sol = solve( ( diff(lagr,q1), diff(lagr,q2), diff(lagr,lam) ), q1,q2,lam)\n",
    "foc_sol"
   ]
  },
  {
   "cell_type": "code",
   "execution_count": 12,
   "id": "52ca5bab",
   "metadata": {},
   "outputs": [
    {
     "data": {
      "image/png": "[encoded data removed]",
      "text/latex": [
       "$\\displaystyle - \\lambda p_{1} + \\frac{1.0 \\left(q_{1}^{0.4} + q_{2}^{0.4}\\right)^{1.5}}{q_{1}^{0.6}}$"
      ],
      "text/plain": [
       "                                  1.5\n",
       "              -0.6 ⎛  0.4     0.4⎞   \n",
       "-λ⋅p₁ + 1.0⋅q₁    ⋅⎝q₁    + q₂   ⎠   "
      ]
     },
     "execution_count": 12,
     "metadata": {},
     "output_type": "execute_result"
    }
   ],
   "source": [
    "lagr.diff(q1)"
   ]
  },
  {
   "cell_type": "code",
   "execution_count": 16,
   "id": "797f8ef9",
   "metadata": {},
   "outputs": [
    {
     "data": {
      "image/png": "[encoded data removed]",
      "text/latex": [
       "$\\displaystyle - \\lambda p_{2} + \\frac{1.0 \\left(q_{1}^{0.4} + q_{2}^{0.4}\\right)^{1.5}}{q_{2}^{0.6}}$"
      ],
      "text/plain": [
       "                                  1.5\n",
       "              -0.6 ⎛  0.4     0.4⎞   \n",
       "-λ⋅p₂ + 1.0⋅q₂    ⋅⎝q₁    + q₂   ⎠   "
      ]
     },
     "execution_count": 16,
     "metadata": {},
     "output_type": "execute_result"
    }
   ],
   "source": [
    "lagr.diff(q2)"
   ]
  },
  {
   "cell_type": "code",
   "execution_count": 13,
   "id": "a2c43c5d",
   "metadata": {},
   "outputs": [
    {
     "data": {
      "image/png": "[encoded data removed]",
      "text/latex": [
       "$\\displaystyle \\frac{1.0 \\left(q_{1}^{0.4} + q_{2}^{0.4}\\right)^{1.5}}{q_{1}^{0.6}}$"
      ],
      "text/plain": [
       "                          1.5\n",
       "      -0.6 ⎛  0.4     0.4⎞   \n",
       "1.0⋅q₁    ⋅⎝q₁    + q₂   ⎠   "
      ]
     },
     "execution_count": 13,
     "metadata": {},
     "output_type": "execute_result"
    }
   ],
   "source": [
    "u.diff(q1)"
   ]
  },
  {
   "cell_type": "code",
   "execution_count": 15,
   "id": "77fd6734",
   "metadata": {},
   "outputs": [
    {
     "data": {
      "image/png": "[encoded data removed]",
      "text/latex": [
       "$\\displaystyle \\frac{1.0 \\left(q_{1}^{0.4} + q_{2}^{0.4}\\right)^{1.5}}{q_{1}^{0.6}}$"
      ],
      "text/plain": [
       "                          1.5\n",
       "      -0.6 ⎛  0.4     0.4⎞   \n",
       "1.0⋅q₁    ⋅⎝q₁    + q₂   ⎠   "
      ]
     },
     "execution_count": 15,
     "metadata": {},
     "output_type": "execute_result"
    }
   ],
   "source": [
    "q1d = u.diff(q1)\n",
    "\n",
    "q1d"
   ]
  },
  {
   "cell_type": "code",
   "execution_count": 14,
   "id": "31b59f2f",
   "metadata": {},
   "outputs": [
    {
     "data": {
      "image/png": "[encoded data removed]",
      "text/latex": [
       "$\\displaystyle \\frac{1.0 \\left(q_{1}^{0.4} + q_{2}^{0.4}\\right)^{1.5}}{q_{2}^{0.6}}$"
      ],
      "text/plain": [
       "                          1.5\n",
       "      -0.6 ⎛  0.4     0.4⎞   \n",
       "1.0⋅q₂    ⋅⎝q₁    + q₂   ⎠   "
      ]
     },
     "execution_count": 14,
     "metadata": {},
     "output_type": "execute_result"
    }
   ],
   "source": [
    "u.diff(q2)"
   ]
  },
  {
   "cell_type": "code",
   "execution_count": 16,
   "id": "4d8a27a7",
   "metadata": {},
   "outputs": [
    {
     "data": {
      "image/png": "[encoded data removed]",
      "text/latex": [
       "$\\displaystyle \\frac{1.0 \\left(q_{1}^{0.4} + q_{2}^{0.4}\\right)^{1.5}}{q_{2}^{0.6}}$"
      ],
      "text/plain": [
       "                          1.5\n",
       "      -0.6 ⎛  0.4     0.4⎞   \n",
       "1.0⋅q₂    ⋅⎝q₁    + q₂   ⎠   "
      ]
     },
     "execution_count": 16,
     "metadata": {},
     "output_type": "execute_result"
    }
   ],
   "source": [
    "q2d = u.diff(q2)\n",
    "\n",
    "q2d"
   ]
  },
  {
   "cell_type": "code",
   "execution_count": null,
   "id": "5f906c34",
   "metadata": {},
   "outputs": [],
   "source": []
  },
  {
   "cell_type": "markdown",
   "id": "953daff6",
   "metadata": {},
   "source": [
    "b)\n",
    "\n",
    "$$U(q_1,q_2)=(q_1^p+q_2^p)^{1/p}$$\n",
    "\n",
    "$$q_1,q_2$$\n",
    "\n",
    "$$U_1=\\frac{\\partial U}{\\partial q_1}=(q_1^{p}q_2^{p})^{1/p}=(\\frac{q_2}{q_1})^{1/p}$$\n",
    "\n",
    "$$U_2=\\frac{\\partial U}{\\partial q_2}=(q_1^{p}q_2^{p})^{1/p}=(\\frac{q_1}{q_2})^{1/p}$$\n",
    "\n",
    "$$MRS_1,2=-(\\frac{U_1}{U_2})=(p(\\frac{q_2}{q_1})^{1/p})(p(\\frac{q_1}{q_2})^{1/p})$$$$=-1\\frac{q_2}{q_1}$$"
   ]
  },
  {
   "cell_type": "code",
   "execution_count": null,
   "id": "0b78c619",
   "metadata": {},
   "outputs": [],
   "source": []
  },
  {
   "cell_type": "markdown",
   "id": "a2c475ed",
   "metadata": {},
   "source": [
    "# Q3"
   ]
  },
  {
   "cell_type": "code",
   "execution_count": null,
   "id": "2acf7bf4",
   "metadata": {},
   "outputs": [],
   "source": []
  },
  {
   "cell_type": "markdown",
   "id": "9b8f2472",
   "metadata": {},
   "source": [
    "a)\n",
    "\n",
    "$$U(q_1,q_2)=q_1^{0.5}+q_2$$\n",
    "\n",
    "$$ Max u (q_1,q_2)=q_1^{0.5}+q_2$$\n",
    "\n",
    "$$q_1,q_2$$\n",
    "\n",
    "$$ \\frac{\\partial dl}{\\partial dq_1}=.5q_1^{-.5}-𝜆=0$$\n",
    "$$ \\frac{\\partial dl}{\\partial dq_1}=1-𝜆p_2=0$$\n",
    "$$ dl/d𝜆=y-p_1q_1-p_2q_2=0$$\n",
    "$$ s.tp_1q_1+p_2q_2=y$$\n",
    "$$ 1/2q_1^{-.5}=\\frac{P_1}{P_2}$$"
   ]
  },
  {
   "cell_type": "markdown",
   "id": "f807aca9",
   "metadata": {},
   "source": [
    "b)\n",
    "\n",
    "$$U(q_1,q_2)=q_1^{a}+q_2$$\n",
    "\n",
    "$$ Max u (q_1,q_2)=q_1^{a}+q_2$$\n",
    "\n",
    "$$ s.t. p_1q_1+p_2q_2=y$$\n",
    "\n",
    "$$q_1,q_2$$\n",
    "\n",
    "$$ \\frac{\\partial dl}{\\partial dq_1}=aq_1^{1-a}-𝜆=0$$\n",
    "$$ \\frac{\\partial dl}{\\partial dq_1}=1-𝜆p_2=0$$\n",
    "$$ \\frac{\\partial dl} {\\partial d𝜆} =y-p_1q_1-p_2q_2=0$$\n",
    "$$ s.tp_1q_1+p_2q_2=y$$\n",
    "$$ 1/2q_1^{-.5}=\\frac{P_1}{P_2}$$"
   ]
  },
  {
   "cell_type": "markdown",
   "id": "91787480",
   "metadata": {},
   "source": [
    "c)\n",
    "\n",
    "$MRS_{1,2}$ for quasi-linear utility function\n",
    "\n",
    "\\begin{align}\n",
    "U(q_1, q_2) = u(q_1) + q_2\n",
    "\\end{align}\n",
    "\n",
    "\\begin{align}\n",
    "\\frac{\\partial u} {\\partial q_1} &= U_1\\\\\n",
    "\\frac{\\partial U} {\\partial q_2} &= 1 = U_2\\\\\n",
    "-\\frac{U_1}{U_2} &= -\\frac{\\frac{\\partial u} {\\partial q_1}}{1} \\\\\n",
    "MRS &= -\\frac{\\partial u}{\\partial q_1}\\\\\n",
    "\\end{align}"
   ]
  },
  {
   "cell_type": "markdown",
   "id": "d758548c",
   "metadata": {},
   "source": [
    "# Q4"
   ]
  },
  {
   "cell_type": "markdown",
   "id": "1c0abdf9",
   "metadata": {},
   "source": [
    "\\begin{align}\n",
    "U(q_1,q_2) &= q_1^.4q_2^.6\n",
    "\\end{align}"
   ]
  },
  {
   "cell_type": "code",
   "execution_count": 7,
   "id": "6e8b6539",
   "metadata": {},
   "outputs": [],
   "source": [
    "q1, q2, p1, p2, y = symbols('q1 q2 p1 p2 y')\n",
    "\n",
    "alpha = symbols('alpha')"
   ]
  },
  {
   "cell_type": "markdown",
   "id": "d96a8b4e",
   "metadata": {},
   "source": [
    "a) \n",
    "\n",
    "Consumer's Maximization problem: \n",
    "\n",
    "\\begin{align}\n",
    "  \\max_{q_1,q_2}U(q_1,q_2) &= q_1^.4q_2^.6 \\\\\n",
    "   s.t. p_1q_1 + p_2q_2 &= Y \\\\\n",
    "\\end{align}\n",
    "\n",
    "\n",
    "The choice varibles are the $q_1$ and $q_2$ under \"max\", \n",
    " The objective function is the first equation in its entirety ,\n",
    "The constraint function is the second equation that equates to $y$, or income \n"
   ]
  },
  {
   "cell_type": "markdown",
   "id": "f81e32f0",
   "metadata": {},
   "source": [
    "b)"
   ]
  },
  {
   "cell_type": "markdown",
   "id": "9b8a15e5",
   "metadata": {},
   "source": [
    "Lagrangian:\n",
    "\n",
    "\\begin{align}\n",
    "  L = q_1^.4q_2^.6 + {\\lambda}(y - p_1q_1 - p_2q_2)\n",
    " \\end{align}\n",
    "\n",
    "\n",
    "    \n"
   ]
  },
  {
   "cell_type": "code",
   "execution_count": 8,
   "id": "f0690484",
   "metadata": {},
   "outputs": [],
   "source": [
    "u = q1**(.4) * q2**(.6)\n",
    "\n",
    "lam = symbols('lambda', real = True, Positive = True)\n"
   ]
  },
  {
   "cell_type": "code",
   "execution_count": 9,
   "id": "dd8f5786",
   "metadata": {},
   "outputs": [
    {
     "data": {
      "image/png": "[encoded data removed]",
      "text/latex": [
       "$\\displaystyle \\lambda \\left(- p_{1} q_{1} - p_{2} q_{2} + y\\right) + q_{1}^{0.4} q_{2}^{0.6}$"
      ],
      "text/plain": [
       "                           0.4   0.6\n",
       "λ⋅(-p₁⋅q₁ - p₂⋅q₂ + y) + q₁   ⋅q₂   "
      ]
     },
     "execution_count": 9,
     "metadata": {},
     "output_type": "execute_result"
    }
   ],
   "source": [
    "lagr = u + lam *(y - p1*q1 - p2*q2)\n",
    "lagr\n"
   ]
  },
  {
   "cell_type": "markdown",
   "id": "98152c22",
   "metadata": {},
   "source": [
    "c) F.O.C.'s"
   ]
  },
  {
   "cell_type": "markdown",
   "id": "efafa932",
   "metadata": {},
   "source": [
    "(1)\n",
    "\n",
    "\\begin{align}\n",
    "\\frac{\\partial L}{\\partial q_1} &= (.4) q_1^{-.6}q_2^{.6} - {\\lambda}p_1 = 0 \\\\\n",
    "    &= (.4) q_1^{-.6}q_2^{.6} = {\\lambda}p_1 \n",
    "\\end{align}\n"
   ]
  },
  {
   "cell_type": "code",
   "execution_count": 39,
   "id": "96a96e20",
   "metadata": {},
   "outputs": [
    {
     "data": {
      "image/png": "[encoded data removed]",
      "text/latex": [
       "$\\displaystyle - \\lambda p_{1} + \\frac{0.4 q_{2}^{0.6}}{q_{1}^{0.6}}$"
      ],
      "text/plain": [
       "              -0.6   0.6\n",
       "-λ⋅p₁ + 0.4⋅q₁    ⋅q₂   "
      ]
     },
     "execution_count": 39,
     "metadata": {},
     "output_type": "execute_result"
    }
   ],
   "source": [
    "lagr.diff(q1)"
   ]
  },
  {
   "cell_type": "markdown",
   "id": "d6c7611c",
   "metadata": {},
   "source": [
    "(2)\n",
    "\n",
    "\\begin{align}\n",
    "\\frac{\\partial L}{\\partial q_2} &= (.6) q_1^{.4}q_2^{-.4} - {\\lambda}p_2 = 0 \\\\\n",
    "    &= (.6) q_1^{.4}q_2^{-.4} = {\\lambda}p_2 \n",
    "\\end{align}"
   ]
  },
  {
   "cell_type": "code",
   "execution_count": 40,
   "id": "bb379860",
   "metadata": {},
   "outputs": [
    {
     "data": {
      "image/png": "[encoded data removed]",
      "text/latex": [
       "$\\displaystyle - \\lambda p_{2} + \\frac{0.6 q_{1}^{0.4}}{q_{2}^{0.4}}$"
      ],
      "text/plain": [
       "              0.4   -0.4\n",
       "-λ⋅p₂ + 0.6⋅q₁   ⋅q₂    "
      ]
     },
     "execution_count": 40,
     "metadata": {},
     "output_type": "execute_result"
    }
   ],
   "source": [
    "lagr.diff(q2)"
   ]
  },
  {
   "cell_type": "markdown",
   "id": "26e9e012",
   "metadata": {},
   "source": [
    "(3)"
   ]
  },
  {
   "cell_type": "markdown",
   "id": "b4a59731",
   "metadata": {},
   "source": [
    "\n",
    "\\begin{align}\n",
    "\\frac{\\partial L}{\\partial \\lambda} &= y - p_1q_1 - p_2q_2 = 0\n",
    "\\end{align}"
   ]
  },
  {
   "cell_type": "code",
   "execution_count": 41,
   "id": "b30ff368",
   "metadata": {},
   "outputs": [
    {
     "data": {
      "image/png": "[encoded data removed]",
      "text/latex": [
       "$\\displaystyle \\lambda$"
      ],
      "text/plain": [
       "λ"
      ]
     },
     "execution_count": 41,
     "metadata": {},
     "output_type": "execute_result"
    }
   ],
   "source": [
    "lagr.diff(y)"
   ]
  },
  {
   "cell_type": "markdown",
   "id": "a1f9eb21",
   "metadata": {},
   "source": [
    "d)"
   ]
  },
  {
   "cell_type": "markdown",
   "id": "218b95e2",
   "metadata": {},
   "source": [
    "(4) Using (1) and (2) to find MRS = MRT\n",
    "\n",
    "\\begin{align}\n",
    "\\frac{.4}{.6} \\frac{q_2}{q_1} = \\frac{p_1}{p_2} \\\\\n",
    "    &= q_2 = \\frac{.6}{.4} \\frac{p_1}{p_2}q_1\n",
    "\\end{align}\n",
    "\n",
    "Plugging (4) into (3)\n",
    "\n",
    "\\begin{align}\n",
    "y - p_1q_1 - p_2\\frac{.6}{.4}\\frac{p_1}{p_2}q_1 = 0 \\\\\n",
    "    &= y - p_1q_1 - \\frac{.6}{.4}p_1q_1 = 0\\\\\n",
    "    &= p_1q_1 = .4y \n",
    "\\end{align}\n",
    "\n",
    "\\begin{align}\n",
    "(q_1* = \\frac{(.4)(y)}{p_1} , q_2* = \\frac{(.6)(.y)}{p_2})\n",
    "\\end{align}"
   ]
  },
  {
   "cell_type": "code",
   "execution_count": 10,
   "id": "d017a0b1",
   "metadata": {},
   "outputs": [
    {
     "data": {
      "image/png": "[encoded data removed]",
      "text/latex": [
       "$\\displaystyle \\left[ \\left( \\frac{0.4 y}{p_{1}}, \\  \\frac{0.6 y}{p_{2}}, \\  \\frac{0.510169800250316 \\left(\\frac{y}{p_{2}}\\right)^{\\frac{3}{5}}}{p_{1} \\left(\\frac{y}{p_{1}}\\right)^{\\frac{3}{5}}}\\right)\\right]$"
      ],
      "text/plain": [
       "⎡⎛                                    3/5⎞⎤\n",
       "⎢⎜                                ⎛y ⎞   ⎟⎥\n",
       "⎢⎜              0.510169800250316⋅⎜──⎟   ⎟⎥\n",
       "⎢⎜0.4⋅y  0.6⋅y                    ⎝p₂⎠   ⎟⎥\n",
       "⎢⎜─────, ─────, ─────────────────────────⎟⎥\n",
       "⎢⎜  p₁     p₂                  3/5       ⎟⎥\n",
       "⎢⎜                         ⎛y ⎞          ⎟⎥\n",
       "⎢⎜                      p₁⋅⎜──⎟          ⎟⎥\n",
       "⎣⎝                         ⎝p₁⎠          ⎠⎦"
      ]
     },
     "execution_count": 10,
     "metadata": {},
     "output_type": "execute_result"
    }
   ],
   "source": [
    "foc_sol = solve( ( diff(lagr,q1), diff(lagr,q2), diff(lagr,lam) ), q1,q2,lam)\n",
    "foc_sol"
   ]
  },
  {
   "cell_type": "code",
   "execution_count": 22,
   "id": "b09da6a5",
   "metadata": {},
   "outputs": [
    {
     "data": {
      "image/png": "[encoded data removed]",
      "text/latex": [
       "$\\displaystyle \\left( \\frac{0.4 y}{p_{1}}, \\  \\frac{0.6 y}{p_{2}}, \\  \\frac{0.510169800250316 \\left(\\frac{y}{p_{2}}\\right)^{\\frac{3}{5}}}{p_{1} \\left(\\frac{y}{p_{1}}\\right)^{\\frac{3}{5}}}\\right)$"
      ],
      "text/plain": [
       "⎛                                    3/5⎞\n",
       "⎜                                ⎛y ⎞   ⎟\n",
       "⎜              0.510169800250316⋅⎜──⎟   ⎟\n",
       "⎜0.4⋅y  0.6⋅y                    ⎝p₂⎠   ⎟\n",
       "⎜─────, ─────, ─────────────────────────⎟\n",
       "⎜  p₁     p₂                  3/5       ⎟\n",
       "⎜                         ⎛y ⎞          ⎟\n",
       "⎜                      p₁⋅⎜──⎟          ⎟\n",
       "⎝                         ⎝p₁⎠          ⎠"
      ]
     },
     "execution_count": 22,
     "metadata": {},
     "output_type": "execute_result"
    }
   ],
   "source": [
    "foc_sol[0]"
   ]
  },
  {
   "cell_type": "code",
   "execution_count": 23,
   "id": "0abd5975",
   "metadata": {},
   "outputs": [
    {
     "data": {
      "image/png": "[encoded data removed]",
      "text/latex": [
       "$\\displaystyle \\frac{0.4 y}{p_{1}}$"
      ],
      "text/plain": [
       "0.4⋅y\n",
       "─────\n",
       "  p₁ "
      ]
     },
     "execution_count": 23,
     "metadata": {},
     "output_type": "execute_result"
    }
   ],
   "source": [
    "q1star = foc_sol[0][0]\n",
    "q1star"
   ]
  },
  {
   "cell_type": "markdown",
   "id": "a8b37631",
   "metadata": {},
   "source": [
    "q2star = foc_sol[0][1]\n",
    "q2star"
   ]
  },
  {
   "cell_type": "markdown",
   "id": "f7888ebe",
   "metadata": {},
   "source": [
    "e)"
   ]
  },
  {
   "cell_type": "markdown",
   "id": "98bfed54",
   "metadata": {},
   "source": [
    "The indirect utility function in this case would be:\n",
    "\n",
    "\\begin{align}\n",
    "V(p_1,p_2, y) = U(q_1*^.4 , q_2*^.6) = (q_1*)^.4 (q_2*)^.6 \\\\\n",
    "    &= \\frac{.4}{p_1}^.4 \\frac{.6}{p_2}^.6 (y) \\\\ \n",
    "\\end{align}\n"
   ]
  },
  {
   "cell_type": "code",
   "execution_count": 25,
   "id": "00c14856",
   "metadata": {},
   "outputs": [
    {
     "data": {
      "image/png": "[encoded data removed]",
      "text/latex": [
       "$\\displaystyle 0.510169800250316 \\left(\\frac{y}{p_{1}}\\right)^{0.4} \\left(\\frac{y}{p_{2}}\\right)^{0.6}$"
      ],
      "text/plain": [
       "                      0.4     0.6\n",
       "                  ⎛y ⎞    ⎛y ⎞   \n",
       "0.510169800250316⋅⎜──⎟   ⋅⎜──⎟   \n",
       "                  ⎝p₁⎠    ⎝p₂⎠   "
      ]
     },
     "execution_count": 25,
     "metadata": {},
     "output_type": "execute_result"
    }
   ],
   "source": [
    "v = u.subs([(q1,q1star), (q2,q2star)])\n",
    "v"
   ]
  },
  {
   "cell_type": "markdown",
   "id": "0bf9b948",
   "metadata": {},
   "source": [
    "f)"
   ]
  },
  {
   "cell_type": "markdown",
   "id": "b1df7c38",
   "metadata": {},
   "source": [
    "How is $q_1^*$ affected by an increase in: $p_1$ , $p_2$ , and $y$?"
   ]
  },
  {
   "cell_type": "markdown",
   "id": "dd0a59e0",
   "metadata": {},
   "source": [
    "When $p_1$ increases: $q_1*$ decreases as the derivate is negative indicating an inverse relationship between $p_1$ and $q_1*$ \\\\\n",
    "\n",
    "When $p_2$ increases: $q_1$ increases so as to increase utility by buying more of $q_1$\\\\\n",
    "\n",
    "When $y$ increases: $q_1$ increases as income increases, more opportunity to purchase goods = more utility"
   ]
  },
  {
   "cell_type": "markdown",
   "id": "ebdd242c",
   "metadata": {},
   "source": [
    "# Q5"
   ]
  },
  {
   "cell_type": "markdown",
   "id": "291d4f01",
   "metadata": {},
   "source": [
    "a)"
   ]
  },
  {
   "cell_type": "code",
   "execution_count": 27,
   "id": "67e3fb2a",
   "metadata": {},
   "outputs": [],
   "source": [
    "rho = symbols('rho', real = True, Positive = True)"
   ]
  },
  {
   "cell_type": "markdown",
   "id": "569bbe33",
   "metadata": {},
   "source": [
    "Consumer's Maximization problem: \n",
    "\n",
    "\\begin{align}\n",
    "  \\max_{q_1,q_2}U(q_1,q_2) &= (q_1^.4 q_2^.4)^\\frac{1}{.4} \\\\\n",
    "   s.t. p_1q_1 + p_2q_2 &= Y \\\\\n",
    "\\end{align}"
   ]
  },
  {
   "cell_type": "markdown",
   "id": "d3aa5cc4",
   "metadata": {},
   "source": [
    "b)\n",
    "\n",
    "Lagrangian:\n",
    "\n",
    "\\begin{align}\n",
    "  L = (q_1^.4q_2^.4)^\\frac{1}{.4} + {\\lambda}(y - p_1q_1 - p_2q_2)\n",
    " \\end{align}"
   ]
  },
  {
   "cell_type": "code",
   "execution_count": 53,
   "id": "192e310f",
   "metadata": {},
   "outputs": [
    {
     "data": {
      "image/png": "[encoded data removed]",
      "text/latex": [
       "$\\displaystyle \\lambda \\left(- p_{1} q_{1} - p_{2} q_{2} + y\\right) + \\left(q_{1}^{0.4} q_{2}^{0.4}\\right)^{2.5}$"
      ],
      "text/plain": [
       "                                      2.5\n",
       "                         ⎛  0.4   0.4⎞   \n",
       "λ⋅(-p₁⋅q₁ - p₂⋅q₂ + y) + ⎝q₁   ⋅q₂   ⎠   "
      ]
     },
     "execution_count": 53,
     "metadata": {},
     "output_type": "execute_result"
    }
   ],
   "source": [
    "u = (q1**(.4) * q2**(.4))**(1/.4)\n",
    "\n",
    "lam = symbols('lambda', real = True, Positive = True)\n",
    "\n",
    "lagr = u + lam *(y - p1*q1 - p2*q2)\n",
    "lagr"
   ]
  },
  {
   "cell_type": "markdown",
   "id": "35f3ab8f",
   "metadata": {},
   "source": [
    "c) F.O.C.'s\n",
    "\n",
    "(1)\n",
    "\n",
    "\\begin{align}\n",
    "\\frac{\\partial L}{\\partial q_1} &= q_1^-.6 (q_1^.4 + q_2^.4)^{1.5} -\\lambda p_1 = 0\\\\\n",
    "    &=q_1^-.6 (q_1^.4 + q_2^.4)^{1.5} = \\lambda p_1 \\\\\n",
    "\\end{align}"
   ]
  },
  {
   "cell_type": "code",
   "execution_count": 43,
   "id": "e857deaa",
   "metadata": {},
   "outputs": [
    {
     "data": {
      "image/png": "[encoded data removed]",
      "text/latex": [
       "$\\displaystyle - \\lambda p_{1} + \\frac{1.0 \\left(q_{1}^{0.4} q_{2}^{0.4}\\right)^{2.5}}{q_{1}^{1.0}}$"
      ],
      "text/plain": [
       "                                2.5\n",
       "              -1.0 ⎛  0.4   0.4⎞   \n",
       "-λ⋅p₁ + 1.0⋅q₁    ⋅⎝q₁   ⋅q₂   ⎠   "
      ]
     },
     "execution_count": 43,
     "metadata": {},
     "output_type": "execute_result"
    }
   ],
   "source": [
    "lagr.diff(q1)"
   ]
  },
  {
   "cell_type": "markdown",
   "id": "4af5a57b",
   "metadata": {},
   "source": [
    "(2)\n",
    "\n",
    "\\begin{align}\n",
    "\\frac{\\partial L}{\\partial q_1} &= q_2^{-.6} (q_1^.4 + q_2^.4)^{1.5} -\\lambda p_2 = 0\\\\\n",
    "    &=q_2^{-.6} (q_1^.4 + q_2^.4)^{1.5} = \\lambda p_2 \\\\\n",
    "\\end{align}"
   ]
  },
  {
   "cell_type": "code",
   "execution_count": 44,
   "id": "97a9f46c",
   "metadata": {},
   "outputs": [
    {
     "data": {
      "image/png": "[encoded data removed]",
      "text/latex": [
       "$\\displaystyle - \\lambda p_{2} + \\frac{1.0 \\left(q_{1}^{0.4} q_{2}^{0.4}\\right)^{2.5}}{q_{2}^{1.0}}$"
      ],
      "text/plain": [
       "                                2.5\n",
       "              -1.0 ⎛  0.4   0.4⎞   \n",
       "-λ⋅p₂ + 1.0⋅q₂    ⋅⎝q₁   ⋅q₂   ⎠   "
      ]
     },
     "execution_count": 44,
     "metadata": {},
     "output_type": "execute_result"
    }
   ],
   "source": [
    "lagr.diff(q2)"
   ]
  },
  {
   "cell_type": "markdown",
   "id": "25a84df5",
   "metadata": {},
   "source": [
    "(3)\n",
    "\n",
    "\n",
    "\\begin{align}\n",
    "\\frac{\\partial L}{\\partial \\lambda} &= y - p_1q_1 - p_2q_2 = 0\n",
    "\\end{align}"
   ]
  },
  {
   "cell_type": "code",
   "execution_count": 45,
   "id": "b0a03e63",
   "metadata": {},
   "outputs": [
    {
     "data": {
      "image/png": "[encoded data removed]",
      "text/latex": [
       "$\\displaystyle \\lambda$"
      ],
      "text/plain": [
       "λ"
      ]
     },
     "execution_count": 45,
     "metadata": {},
     "output_type": "execute_result"
    }
   ],
   "source": [
    "lagr.diff(y)"
   ]
  },
  {
   "cell_type": "markdown",
   "id": "e2a52470",
   "metadata": {},
   "source": [
    "d) Using (1) and (2) to find MRS = MRT\n",
    "\n",
    "\\begin{align}\n",
    "\\frac{q_2}{q_1}^.6 = \\frac{p_1}{p_2} \\\\\n",
    "    &= q_2 = \\frac{p_1}{p_2}^\\frac{1}{.6} (q_1) \\\\\n",
    "\\end{align}\n",
    "\n",
    "Just to simplify:\n",
    "\n",
    "\\begin{align}\n",
    "\\sigma = -\\frac{1}{.6} \\\\\n",
    "\\end{align}\n",
    "\n",
    "(4') \n",
    "\n",
    "\\begin{align}\n",
    "q_2 = \\frac{p_1}{p_2}^{1.67)} (q_1)\n",
    "\\end{align}\n",
    "\n",
    "Plugging (4') into 3\n",
    "\n",
    "\\begin{align}\n",
    "y - p_1q_1 - p_2(\\frac{p_1}{p_2})^{1.67} q_1 = 0 \\\\\n",
    "    &= y - (p_1 + p_2^{-.67} p_1^{1.67}) (q_1) = 0 \\\\\n",
    "    &= q_1^* = \\frac{1}{p_1 + p_2^{-.67} p_1^{1.67}} y \\\\\n",
    "    &= q_1^* = \\frac{p_1^{-1.67}}{p_1^{-.67} + p_2^{-1.67}} y\n",
    "\\end{align}\n",
    "\n",
    "\\begin{align}\n",
    "q_2^{*} = (\\frac{p_2^{-1.67}}{p_1^{-.67} + p_2^{-.67}}) y\n",
    "\\end{align}\n",
    "\n",
    "\\begin{align}\n",
    "(q_1^* = \\frac{p_1^{-1.67}}{p_1^{-.67} + p_2^{-.67}} y , q_2^{*} = (\\frac{p_2^{-1.67}}{p_1^{-.67} + p_2^{-.67}}) y) \\\\\n",
    "\\end{align}"
   ]
  },
  {
   "cell_type": "code",
   "execution_count": 54,
   "id": "26f99854",
   "metadata": {},
   "outputs": [
    {
     "data": {
      "image/png": "[encoded data removed]",
      "text/latex": [
       "$\\displaystyle \\left\\{ q_{1} : \\frac{0.5 y}{p_{1}}, \\  q_{2} : \\frac{0.5 y}{p_{2}}\\right\\}$"
      ],
      "text/plain": [
       "⎧    0.5⋅y      0.5⋅y⎫\n",
       "⎨q₁: ─────, q₂: ─────⎬\n",
       "⎩      p₁         p₂ ⎭"
      ]
     },
     "execution_count": 54,
     "metadata": {},
     "output_type": "execute_result"
    }
   ],
   "source": [
    "solve((diff(u,q1)/diff(u,q2) - p1/p2, diff(lagr,lam) ), q1,q2,lam)"
   ]
  },
  {
   "cell_type": "code",
   "execution_count": 55,
   "id": "1e7a40b1",
   "metadata": {},
   "outputs": [
    {
     "data": {
      "image/png": "[encoded data removed]",
      "text/latex": [
       "$\\displaystyle \\left( \\frac{0.5 y}{p_{1}}, \\  \\frac{0.5 y}{p_{2}}, \\  \\frac{0.5 \\left(\\left(\\frac{y}{p_{1}}\\right)^{0.4} \\left(\\frac{y}{p_{2}}\\right)^{0.4}\\right)^{\\frac{5}{2}}}{y}\\right)$"
      ],
      "text/plain": [
       "⎛                                   5/2⎞\n",
       "⎜                  ⎛    0.4     0.4⎞   ⎟\n",
       "⎜                  ⎜⎛y ⎞    ⎛y ⎞   ⎟   ⎟\n",
       "⎜              0.5⋅⎜⎜──⎟   ⋅⎜──⎟   ⎟   ⎟\n",
       "⎜0.5⋅y  0.5⋅y      ⎝⎝p₁⎠    ⎝p₂⎠   ⎠   ⎟\n",
       "⎜─────, ─────, ────────────────────────⎟\n",
       "⎝  p₁     p₂              y            ⎠"
      ]
     },
     "execution_count": 55,
     "metadata": {},
     "output_type": "execute_result"
    }
   ],
   "source": [
    "foc_sol[0]"
   ]
  },
  {
   "cell_type": "code",
   "execution_count": 56,
   "id": "db8466ff",
   "metadata": {},
   "outputs": [
    {
     "data": {
      "image/png": "[encoded data removed]",
      "text/latex": [
       "$\\displaystyle \\frac{0.5 y}{p_{1}}$"
      ],
      "text/plain": [
       "0.5⋅y\n",
       "─────\n",
       "  p₁ "
      ]
     },
     "execution_count": 56,
     "metadata": {},
     "output_type": "execute_result"
    }
   ],
   "source": [
    "q1star = foc_sol[0][0]\n",
    "q1star"
   ]
  },
  {
   "cell_type": "code",
   "execution_count": 57,
   "id": "81528230",
   "metadata": {},
   "outputs": [
    {
     "data": {
      "image/png": "[encoded data removed]",
      "text/latex": [
       "$\\displaystyle \\frac{0.5 y}{p_{2}}$"
      ],
      "text/plain": [
       "0.5⋅y\n",
       "─────\n",
       "  p₂ "
      ]
     },
     "execution_count": 57,
     "metadata": {},
     "output_type": "execute_result"
    }
   ],
   "source": [
    "q2star = foc_sol[0][1]\n",
    "q2star"
   ]
  },
  {
   "cell_type": "markdown",
   "id": "c24a3bfa",
   "metadata": {},
   "source": [
    "e)\n",
    "\n",
    "How is $q_1^*$ affected by an increase in: $p_1$ , $p_2$ , and $y$?\n",
    "\n",
    "When $p_1$ increases: $q_1*$ decreases as the derivate is negative indicating an inverse relationship between $p_1$ and $q_1*$ \\\\\n",
    "\n",
    "When $p_2$ increases: $q_1$ decreases because compliments $q_1$\\\\\n",
    "\n",
    "When $y$ increases: $q_1$ increases as income increases, more opportunity to purchase goods = more utility"
   ]
  },
  {
   "cell_type": "markdown",
   "id": "6c4c6671",
   "metadata": {},
   "source": [
    "\"That's all folks!\" - Bugs Bunny"
   ]
  },
  {
   "cell_type": "code",
   "execution_count": null,
   "id": "47928a76",
   "metadata": {},
   "outputs": [],
   "source": []
  }
 ],
 "metadata": {
  "kernelspec": {
   "display_name": "Python 3 (ipykernel)",
   "language": "python",
   "name": "python3"
  },
  "language_info": {
   "codemirror_mode": {
    "name": "ipython",
    "version": 3
   },
   "file_extension": ".py",
   "mimetype": "text/x-python",
   "name": "python",
   "nbconvert_exporter": "python",
   "pygments_lexer": "ipython3",
   "version": "3.9.12"
  }
 },
 "nbformat": 4,
 "nbformat_minor": 5
}
